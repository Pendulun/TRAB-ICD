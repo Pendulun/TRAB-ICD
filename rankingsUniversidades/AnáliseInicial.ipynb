{
 "cells": [
  {
   "cell_type": "code",
   "execution_count": 1,
   "metadata": {},
   "outputs": [],
   "source": [
    "import pandas as pd\n",
    "import matplotlib.pyplot as plt\n",
    "import numpy as np"
   ]
  },
  {
   "cell_type": "markdown",
   "metadata": {},
   "source": [
    "<h1>Times Data<h1>"
   ]
  },
  {
   "cell_type": "code",
   "execution_count": 2,
   "metadata": {},
   "outputs": [],
   "source": [
    "timesData = pd.read_csv(\"timesData.csv\")"
   ]
  },
  {
   "cell_type": "code",
   "execution_count": 3,
   "metadata": {},
   "outputs": [
    {
     "data": {
      "text/html": [
       "<div>\n",
       "<style scoped>\n",
       "    .dataframe tbody tr th:only-of-type {\n",
       "        vertical-align: middle;\n",
       "    }\n",
       "\n",
       "    .dataframe tbody tr th {\n",
       "        vertical-align: top;\n",
       "    }\n",
       "\n",
       "    .dataframe thead th {\n",
       "        text-align: right;\n",
       "    }\n",
       "</style>\n",
       "<table border=\"1\" class=\"dataframe\">\n",
       "  <thead>\n",
       "    <tr style=\"text-align: right;\">\n",
       "      <th></th>\n",
       "      <th>teaching</th>\n",
       "      <th>research</th>\n",
       "      <th>citations</th>\n",
       "      <th>student_staff_ratio</th>\n",
       "      <th>year</th>\n",
       "    </tr>\n",
       "  </thead>\n",
       "  <tbody>\n",
       "    <tr>\n",
       "      <th>count</th>\n",
       "      <td>2603.000000</td>\n",
       "      <td>2603.000000</td>\n",
       "      <td>2603.000000</td>\n",
       "      <td>2544.000000</td>\n",
       "      <td>2603.000000</td>\n",
       "    </tr>\n",
       "    <tr>\n",
       "      <th>mean</th>\n",
       "      <td>37.801498</td>\n",
       "      <td>35.910257</td>\n",
       "      <td>60.921629</td>\n",
       "      <td>18.445283</td>\n",
       "      <td>2014.075682</td>\n",
       "    </tr>\n",
       "    <tr>\n",
       "      <th>std</th>\n",
       "      <td>17.604218</td>\n",
       "      <td>21.254805</td>\n",
       "      <td>23.073219</td>\n",
       "      <td>11.458698</td>\n",
       "      <td>1.685733</td>\n",
       "    </tr>\n",
       "    <tr>\n",
       "      <th>min</th>\n",
       "      <td>9.900000</td>\n",
       "      <td>2.900000</td>\n",
       "      <td>1.200000</td>\n",
       "      <td>0.600000</td>\n",
       "      <td>2011.000000</td>\n",
       "    </tr>\n",
       "    <tr>\n",
       "      <th>25%</th>\n",
       "      <td>24.700000</td>\n",
       "      <td>19.600000</td>\n",
       "      <td>45.500000</td>\n",
       "      <td>11.975000</td>\n",
       "      <td>2013.000000</td>\n",
       "    </tr>\n",
       "    <tr>\n",
       "      <th>50%</th>\n",
       "      <td>33.900000</td>\n",
       "      <td>30.500000</td>\n",
       "      <td>62.500000</td>\n",
       "      <td>16.100000</td>\n",
       "      <td>2014.000000</td>\n",
       "    </tr>\n",
       "    <tr>\n",
       "      <th>75%</th>\n",
       "      <td>46.400000</td>\n",
       "      <td>47.250000</td>\n",
       "      <td>79.050000</td>\n",
       "      <td>21.500000</td>\n",
       "      <td>2016.000000</td>\n",
       "    </tr>\n",
       "    <tr>\n",
       "      <th>max</th>\n",
       "      <td>99.700000</td>\n",
       "      <td>99.400000</td>\n",
       "      <td>100.000000</td>\n",
       "      <td>162.600000</td>\n",
       "      <td>2016.000000</td>\n",
       "    </tr>\n",
       "  </tbody>\n",
       "</table>\n",
       "</div>"
      ],
      "text/plain": [
       "          teaching     research    citations  student_staff_ratio         year\n",
       "count  2603.000000  2603.000000  2603.000000          2544.000000  2603.000000\n",
       "mean     37.801498    35.910257    60.921629            18.445283  2014.075682\n",
       "std      17.604218    21.254805    23.073219            11.458698     1.685733\n",
       "min       9.900000     2.900000     1.200000             0.600000  2011.000000\n",
       "25%      24.700000    19.600000    45.500000            11.975000  2013.000000\n",
       "50%      33.900000    30.500000    62.500000            16.100000  2014.000000\n",
       "75%      46.400000    47.250000    79.050000            21.500000  2016.000000\n",
       "max      99.700000    99.400000   100.000000           162.600000  2016.000000"
      ]
     },
     "execution_count": 3,
     "metadata": {},
     "output_type": "execute_result"
    }
   ],
   "source": [
    "timesData.describe()"
   ]
  },
  {
   "cell_type": "code",
   "execution_count": 4,
   "metadata": {},
   "outputs": [
    {
     "data": {
      "text/html": [
       "<div>\n",
       "<style scoped>\n",
       "    .dataframe tbody tr th:only-of-type {\n",
       "        vertical-align: middle;\n",
       "    }\n",
       "\n",
       "    .dataframe tbody tr th {\n",
       "        vertical-align: top;\n",
       "    }\n",
       "\n",
       "    .dataframe thead th {\n",
       "        text-align: right;\n",
       "    }\n",
       "</style>\n",
       "<table border=\"1\" class=\"dataframe\">\n",
       "  <thead>\n",
       "    <tr style=\"text-align: right;\">\n",
       "      <th></th>\n",
       "      <th>world_rank</th>\n",
       "      <th>university_name</th>\n",
       "      <th>country</th>\n",
       "      <th>teaching</th>\n",
       "      <th>international</th>\n",
       "      <th>research</th>\n",
       "      <th>citations</th>\n",
       "      <th>income</th>\n",
       "      <th>total_score</th>\n",
       "      <th>num_students</th>\n",
       "      <th>student_staff_ratio</th>\n",
       "      <th>international_students</th>\n",
       "      <th>female_male_ratio</th>\n",
       "      <th>year</th>\n",
       "    </tr>\n",
       "  </thead>\n",
       "  <tbody>\n",
       "    <tr>\n",
       "      <th>0</th>\n",
       "      <td>1</td>\n",
       "      <td>Harvard University</td>\n",
       "      <td>United States of America</td>\n",
       "      <td>99.7</td>\n",
       "      <td>72.4</td>\n",
       "      <td>98.7</td>\n",
       "      <td>98.8</td>\n",
       "      <td>34.5</td>\n",
       "      <td>96.1</td>\n",
       "      <td>20,152</td>\n",
       "      <td>8.9</td>\n",
       "      <td>25%</td>\n",
       "      <td>NaN</td>\n",
       "      <td>2011</td>\n",
       "    </tr>\n",
       "    <tr>\n",
       "      <th>1</th>\n",
       "      <td>2</td>\n",
       "      <td>California Institute of Technology</td>\n",
       "      <td>United States of America</td>\n",
       "      <td>97.7</td>\n",
       "      <td>54.6</td>\n",
       "      <td>98.0</td>\n",
       "      <td>99.9</td>\n",
       "      <td>83.7</td>\n",
       "      <td>96.0</td>\n",
       "      <td>2,243</td>\n",
       "      <td>6.9</td>\n",
       "      <td>27%</td>\n",
       "      <td>33 : 67</td>\n",
       "      <td>2011</td>\n",
       "    </tr>\n",
       "    <tr>\n",
       "      <th>2</th>\n",
       "      <td>3</td>\n",
       "      <td>Massachusetts Institute of Technology</td>\n",
       "      <td>United States of America</td>\n",
       "      <td>97.8</td>\n",
       "      <td>82.3</td>\n",
       "      <td>91.4</td>\n",
       "      <td>99.9</td>\n",
       "      <td>87.5</td>\n",
       "      <td>95.6</td>\n",
       "      <td>11,074</td>\n",
       "      <td>9.0</td>\n",
       "      <td>33%</td>\n",
       "      <td>37 : 63</td>\n",
       "      <td>2011</td>\n",
       "    </tr>\n",
       "  </tbody>\n",
       "</table>\n",
       "</div>"
      ],
      "text/plain": [
       "  world_rank                        university_name                   country  \\\n",
       "0          1                     Harvard University  United States of America   \n",
       "1          2     California Institute of Technology  United States of America   \n",
       "2          3  Massachusetts Institute of Technology  United States of America   \n",
       "\n",
       "   teaching international  research  citations income total_score  \\\n",
       "0      99.7          72.4      98.7       98.8   34.5        96.1   \n",
       "1      97.7          54.6      98.0       99.9   83.7        96.0   \n",
       "2      97.8          82.3      91.4       99.9   87.5        95.6   \n",
       "\n",
       "  num_students  student_staff_ratio international_students female_male_ratio  \\\n",
       "0       20,152                  8.9                    25%               NaN   \n",
       "1        2,243                  6.9                    27%           33 : 67   \n",
       "2       11,074                  9.0                    33%           37 : 63   \n",
       "\n",
       "   year  \n",
       "0  2011  \n",
       "1  2011  \n",
       "2  2011  "
      ]
     },
     "execution_count": 4,
     "metadata": {},
     "output_type": "execute_result"
    }
   ],
   "source": [
    "timesData.head(3)"
   ]
  },
  {
   "cell_type": "code",
   "execution_count": 5,
   "metadata": {},
   "outputs": [
    {
     "data": {
      "text/plain": [
       "2016    800\n",
       "2012    402\n",
       "2015    401\n",
       "2013    400\n",
       "2014    400\n",
       "2011    200\n",
       "Name: year, dtype: int64"
      ]
     },
     "execution_count": 5,
     "metadata": {},
     "output_type": "execute_result"
    }
   ],
   "source": [
    "timesData['year'].value_counts()"
   ]
  },
  {
   "cell_type": "code",
   "execution_count": 6,
   "metadata": {},
   "outputs": [
    {
     "data": {
      "text/html": [
       "<div>\n",
       "<style scoped>\n",
       "    .dataframe tbody tr th:only-of-type {\n",
       "        vertical-align: middle;\n",
       "    }\n",
       "\n",
       "    .dataframe tbody tr th {\n",
       "        vertical-align: top;\n",
       "    }\n",
       "\n",
       "    .dataframe thead th {\n",
       "        text-align: right;\n",
       "    }\n",
       "</style>\n",
       "<table border=\"1\" class=\"dataframe\">\n",
       "  <thead>\n",
       "    <tr style=\"text-align: right;\">\n",
       "      <th></th>\n",
       "      <th>world_rank</th>\n",
       "      <th>university_name</th>\n",
       "      <th>country</th>\n",
       "      <th>teaching</th>\n",
       "      <th>international</th>\n",
       "      <th>research</th>\n",
       "      <th>citations</th>\n",
       "      <th>income</th>\n",
       "      <th>total_score</th>\n",
       "      <th>num_students</th>\n",
       "      <th>student_staff_ratio</th>\n",
       "      <th>international_students</th>\n",
       "      <th>female_male_ratio</th>\n",
       "      <th>year</th>\n",
       "    </tr>\n",
       "  </thead>\n",
       "  <tbody>\n",
       "    <tr>\n",
       "      <th>0</th>\n",
       "      <td>1</td>\n",
       "      <td>Harvard University</td>\n",
       "      <td>United States of America</td>\n",
       "      <td>99.7</td>\n",
       "      <td>72.4</td>\n",
       "      <td>98.7</td>\n",
       "      <td>98.8</td>\n",
       "      <td>34.5</td>\n",
       "      <td>96.1</td>\n",
       "      <td>20,152</td>\n",
       "      <td>8.9</td>\n",
       "      <td>25%</td>\n",
       "      <td>NaN</td>\n",
       "      <td>2011</td>\n",
       "    </tr>\n",
       "    <tr>\n",
       "      <th>201</th>\n",
       "      <td>2</td>\n",
       "      <td>Harvard University</td>\n",
       "      <td>United States of America</td>\n",
       "      <td>95.8</td>\n",
       "      <td>67.5</td>\n",
       "      <td>97.4</td>\n",
       "      <td>99.8</td>\n",
       "      <td>35.9</td>\n",
       "      <td>93.9</td>\n",
       "      <td>20,152</td>\n",
       "      <td>8.9</td>\n",
       "      <td>25%</td>\n",
       "      <td>NaN</td>\n",
       "      <td>2012</td>\n",
       "    </tr>\n",
       "    <tr>\n",
       "      <th>605</th>\n",
       "      <td>4</td>\n",
       "      <td>Harvard University</td>\n",
       "      <td>United States of America</td>\n",
       "      <td>94.9</td>\n",
       "      <td>63.7</td>\n",
       "      <td>98.6</td>\n",
       "      <td>99.2</td>\n",
       "      <td>39.9</td>\n",
       "      <td>93.6</td>\n",
       "      <td>20,152</td>\n",
       "      <td>8.9</td>\n",
       "      <td>25%</td>\n",
       "      <td>NaN</td>\n",
       "      <td>2013</td>\n",
       "    </tr>\n",
       "    <tr>\n",
       "      <th>1003</th>\n",
       "      <td>2</td>\n",
       "      <td>Harvard University</td>\n",
       "      <td>United States of America</td>\n",
       "      <td>95.3</td>\n",
       "      <td>66.2</td>\n",
       "      <td>98.5</td>\n",
       "      <td>99.1</td>\n",
       "      <td>40.6</td>\n",
       "      <td>93.9</td>\n",
       "      <td>20,152</td>\n",
       "      <td>8.9</td>\n",
       "      <td>25%</td>\n",
       "      <td>NaN</td>\n",
       "      <td>2014</td>\n",
       "    </tr>\n",
       "    <tr>\n",
       "      <th>1403</th>\n",
       "      <td>2</td>\n",
       "      <td>Harvard University</td>\n",
       "      <td>United States of America</td>\n",
       "      <td>92.9</td>\n",
       "      <td>67.6</td>\n",
       "      <td>98.6</td>\n",
       "      <td>98.9</td>\n",
       "      <td>44.0</td>\n",
       "      <td>93.3</td>\n",
       "      <td>20,152</td>\n",
       "      <td>8.9</td>\n",
       "      <td>25%</td>\n",
       "      <td>NaN</td>\n",
       "      <td>2015</td>\n",
       "    </tr>\n",
       "    <tr>\n",
       "      <th>1808</th>\n",
       "      <td>6</td>\n",
       "      <td>Harvard University</td>\n",
       "      <td>United States of America</td>\n",
       "      <td>83.6</td>\n",
       "      <td>77.2</td>\n",
       "      <td>99.0</td>\n",
       "      <td>99.8</td>\n",
       "      <td>45.2</td>\n",
       "      <td>91.6</td>\n",
       "      <td>20,152</td>\n",
       "      <td>8.9</td>\n",
       "      <td>25%</td>\n",
       "      <td>NaN</td>\n",
       "      <td>2016</td>\n",
       "    </tr>\n",
       "  </tbody>\n",
       "</table>\n",
       "</div>"
      ],
      "text/plain": [
       "     world_rank     university_name                   country  teaching  \\\n",
       "0             1  Harvard University  United States of America      99.7   \n",
       "201           2  Harvard University  United States of America      95.8   \n",
       "605           4  Harvard University  United States of America      94.9   \n",
       "1003          2  Harvard University  United States of America      95.3   \n",
       "1403          2  Harvard University  United States of America      92.9   \n",
       "1808          6  Harvard University  United States of America      83.6   \n",
       "\n",
       "     international  research  citations income total_score num_students  \\\n",
       "0             72.4      98.7       98.8   34.5        96.1       20,152   \n",
       "201           67.5      97.4       99.8   35.9        93.9       20,152   \n",
       "605           63.7      98.6       99.2   39.9        93.6       20,152   \n",
       "1003          66.2      98.5       99.1   40.6        93.9       20,152   \n",
       "1403          67.6      98.6       98.9   44.0        93.3       20,152   \n",
       "1808          77.2      99.0       99.8   45.2        91.6       20,152   \n",
       "\n",
       "      student_staff_ratio international_students female_male_ratio  year  \n",
       "0                     8.9                    25%               NaN  2011  \n",
       "201                   8.9                    25%               NaN  2012  \n",
       "605                   8.9                    25%               NaN  2013  \n",
       "1003                  8.9                    25%               NaN  2014  \n",
       "1403                  8.9                    25%               NaN  2015  \n",
       "1808                  8.9                    25%               NaN  2016  "
      ]
     },
     "execution_count": 6,
     "metadata": {},
     "output_type": "execute_result"
    }
   ],
   "source": [
    "timesData[timesData['university_name'] == 'Harvard University']"
   ]
  },
  {
   "cell_type": "code",
   "execution_count": 7,
   "metadata": {},
   "outputs": [
    {
     "data": {
      "text/plain": [
       "world_rank                  0\n",
       "university_name             0\n",
       "country                     0\n",
       "teaching                    0\n",
       "international               0\n",
       "research                    0\n",
       "citations                   0\n",
       "income                      0\n",
       "total_score                 0\n",
       "num_students               59\n",
       "student_staff_ratio        59\n",
       "international_students     67\n",
       "female_male_ratio         233\n",
       "year                        0\n",
       "dtype: int64"
      ]
     },
     "execution_count": 7,
     "metadata": {},
     "output_type": "execute_result"
    }
   ],
   "source": [
    "timesData.isna().sum()"
   ]
  },
  {
   "cell_type": "code",
   "execution_count": 16,
   "metadata": {},
   "outputs": [],
   "source": [
    "def defineFemaleRatio(df):\n",
    "    \"\"\"\n",
    "    Altera a coluna female_male_ratio para que mostre apenas a porcentagem de mulheres na universidade.\n",
    "    Além disso, remove valores iguais a \"-\" e os salva como NaN.\n",
    "    Dessa forma, fica mais fácil de analisar essa coluna. Retorna um novo dataframe sem alterar o df passado\n",
    "    \"\"\"\n",
    "    dfNovo = df.copy()\n",
    "    dfNovo.index = range(len(df))\n",
    "    for i in range(len(dfNovo)):\n",
    "        if (not pd.isna(dfNovo.iloc[i,12])):\n",
    "            if dfNovo.at[i,'female_male_ratio'] == '-':\n",
    "                dfNovo.at[i,'female_male_ratio'] = np.nan\n",
    "            else:\n",
    "                dfNovo.at[i,'female_male_ratio'] = int(dfNovo.at[i,'female_male_ratio'].strip()[0:2])\n",
    "    return dfNovo\n",
    "            \n",
    "def retiraPorcentagem(df):\n",
    "    \"\"\"\n",
    "    Retira o símbolo de % da coluna 'international_students' e retorna um novo dataset sem modificar o original.\n",
    "    \"\"\"\n",
    "    dfNovo = df.copy()\n",
    "    dfNovo.index = range(len(dfNovo))\n",
    "    for i in range(len(dfNovo)):\n",
    "        if (not pd.isna(dfNovo.iloc[i,11])):\n",
    "            valorNovo = dfNovo.at[i,'international_students']\n",
    "            if '%' in valorNovo:\n",
    "                valorNovo = valorNovo[:-1]\n",
    "            if valorNovo.strip() not in ['']:\n",
    "                dfNovo.at[i,'international_students'] = int(valorNovo)\n",
    "    return dfNovo\n",
    "\n",
    "def retiraVirgulaNumAlunos(df):\n",
    "    \"\"\"\n",
    "    df: Um dataframe\n",
    "    Retira a vírgula que separa os números da coluna num_students e os converte para inteiro para que\n",
    "    possam ser usados como dados em plots. Não altera o dataframe passado. Retorna um novo dataframe\n",
    "    \"\"\"\n",
    "    dfNovo = df.copy()\n",
    "    dfNovo.index = range(len(dfNovo))\n",
    "    for i in range(len(dfNovo)):\n",
    "        if(not pd.isna(df.at[i,'num_students'])):\n",
    "            dfNovo.at[i,'num_students'] = int(dfNovo.at[i,'num_students'].replace(',','',1))\n",
    "    return dfNovo\n",
    "\n",
    "def isFloat(value):\n",
    "    \"\"\"\n",
    "    Retorna True se é possível converter o valor para float e False caso não seja possível\n",
    "    \"\"\"\n",
    "    try:\n",
    "        float(value)\n",
    "        return True\n",
    "    except ValueError:\n",
    "        return False\n",
    "\n",
    "def calculaTotalScore(linha):\n",
    "    \"\"\"\n",
    "    linha: Um objeto Series contendo as seguintes colunas:\n",
    "        teaching, international, research, citations, income e year\n",
    "        \n",
    "    Retorna o total_score (arredondado com 1 casa decimal) de uma universidade de acordo\n",
    "    com as regras da Times. \n",
    "    Retorna -1 caso o valor em 'year' não esteja da faixa de (2011-2016) ou caso pelo menos uma das cinco\n",
    "    categorias não tenha um valor float\n",
    "    \n",
    "    O peso de cada categoria varia por ano:\n",
    "    \n",
    "        2011:\n",
    "            peso_teaching: 30%\n",
    "            peso_income: 2.5%\n",
    "            peso_citations: 32.5%\n",
    "            peso_research: 30%\n",
    "            peso_international: 5%\n",
    "            \n",
    "        2012,2013,2014,2015,2016:\n",
    "            peso_teaching: 30%\n",
    "            peso_income: 2.5%\n",
    "            peso_citations: 30%\n",
    "            peso_research: 30%\n",
    "            peso_international: 7.5%\n",
    "         \n",
    "        total_score = {(teaching*peso_teaching) + (international * peso_international) +\n",
    "                        (income * peso_income) + (citations * peso_citations) + \n",
    "                        (research * peso_research)}/(100)\n",
    "    \n",
    "    \"\"\"\n",
    "    peso_teaching = 30\n",
    "    peso_income = 2.5\n",
    "    peso_citations = 0\n",
    "    peso_research = 30\n",
    "    peso_international = 0\n",
    "    teaching = 0\n",
    "    income = 0\n",
    "    citations = 0\n",
    "    research = 0\n",
    "    international = 0\n",
    "    \n",
    "    if(isFloat(linha['teaching'])):\n",
    "        teaching = float(linha['teaching'])\n",
    "    else:\n",
    "        return -1.0\n",
    "    \n",
    "    if(isFloat(linha['income'])):\n",
    "        income = float(linha['income'])\n",
    "    else:\n",
    "        return -1.0\n",
    "    \n",
    "    if(isFloat(linha['citations'])):\n",
    "        citations = float(linha['citations'])\n",
    "    else:\n",
    "        return -1.0\n",
    "    \n",
    "    if(isFloat(linha['research'])):\n",
    "        research = float(linha['research'])\n",
    "    else:\n",
    "        return -1.0\n",
    "    \n",
    "    if(isFloat(linha['international'])):\n",
    "        international = float(linha['international'])\n",
    "    else:\n",
    "        return -1.0\n",
    "    \n",
    "    if int(linha['year']) == 2011:\n",
    "        peso_citations = 32.5\n",
    "        peso_international = 5\n",
    "    elif int(linha['year']) in [2012,2013,2014,2015,2016]:\n",
    "        peso_citations = 30\n",
    "        peso_international = 7.5\n",
    "    else:\n",
    "        return -1.0\n",
    "    \n",
    "    total_score = ((teaching*peso_teaching) + (international * peso_international) +\n",
    "                        (income * peso_income) + (citations * peso_citations) + \n",
    "                        (research * peso_research))/(100)\n",
    "    return float(round(total_score,1))\n",
    "\n",
    "def completaTotalScores(df):\n",
    "    \"\"\"\n",
    "    df: Um dataframe\n",
    "    Calcula a nota final de cada universidade se for possível. Caso não seja possível, -1 é colocado como nota.\n",
    "    Retorna um novo dataframe sem alterar o df passado\n",
    "    \"\"\"\n",
    "    dfNovo = df.copy()\n",
    "    dfNovo.index = range(len(dfNovo))\n",
    "    for i in range(len(dfNovo)):\n",
    "        novaNota = 0\n",
    "        novaNota = calculaTotalScore(dfNovo.iloc[i])\n",
    "        dfNovo.at[i,'total_score'] = novaNota\n",
    "    return dfNovo\n",
    "\n",
    "def arrumaNomePaises(df):\n",
    "    \"\"\"\n",
    "    Arruma o nome de células que estão com:\n",
    "    'Unisted States of America' para 'United States of America'\n",
    "    'Unted Kingdom' para 'United Kingdom'\n",
    "    \"\"\"\n",
    "    dfNovo = df.copy()\n",
    "\n",
    "    #Index de quem tem o nome 'Unisted States of America'\n",
    "    idxEUA = dfNovo.index[dfNovo['country'] == 'Unisted States of America']\n",
    "    for i in range(len(idxEUA)):\n",
    "        dfNovo.at[idxEUA[i],'country'] = 'United States of America'\n",
    "    \n",
    "    #Index de quem tem o nome 'Unted Kingdom'\n",
    "    idxUK = dfNovo.index[dfNovo['country'] == 'Unted Kingdom']\n",
    "    for i in range(len(idxUK)):\n",
    "        dfNovo.at[idxUK[i],'country'] = 'United Kingdom'\n",
    "    return dfNovo\n",
    "\n",
    "def trataDadosTimes(df):\n",
    "    \"\"\"\n",
    "    df: Um dataframe, de preferência, o dataset da times original.\n",
    "    Trata os dados do dataset de acordo com todas as regras existentes que devem ser aplicadas até agora.\n",
    "    Retorna um novo dataframe sem alterar o original.\n",
    "    \"\"\"\n",
    "    dfNovo = completaTotalScores(df)\n",
    "    dfNovo = retiraPorcentagem(dfNovo)\n",
    "    dfNovo = retiraVirgulaNumAlunos(dfNovo)\n",
    "    dfNovo = defineFemaleRatio(dfNovo)\n",
    "    dfNovo = arrumaNomePaises(dfNovo)\n",
    "    return dfNovo"
   ]
  },
  {
   "cell_type": "code",
   "execution_count": 19,
   "metadata": {},
   "outputs": [],
   "source": [
    "#Tratando os dados da times\n",
    "dfTimesData = trataDadosTimes(timesData)"
   ]
  },
  {
   "cell_type": "markdown",
   "metadata": {},
   "source": [
    "<h1>Separando os países em regiões</h1>"
   ]
  },
  {
   "cell_type": "code",
   "execution_count": 20,
   "metadata": {},
   "outputs": [],
   "source": [
    "#Latin America Countries\n",
    "LTCountries = [\"Argentina\",\"Brazil\",\"Chile\",\"Colombia\",\"Mexico\"]\n",
    "#North America Countries\n",
    "NACountries = [\"Canada\",\"United States of America\"]\n",
    "#European Countries without Cyprus\n",
    "EUCountries = ['Austria','Belarus','Belgium','Czech Republic','Denmark',\n",
    "               'Estonia','Finland','France','Germany','Greece','Hungary',\n",
    "               'Iceland','Italy','Latvia','Lithuania','Luxembourg',\n",
    "               'Netherlands','Norway','Poland','Portugal','Republic of Ireland',\n",
    "               'Romania','Russian Federation','Serbia','Slovakia',\n",
    "               'Slovenia','Spain','Sweden','Switzerland','Ukraine','United Kingdom']\n",
    "#African Countries without Egypt\n",
    "AFCountries = ['Ghana','Kenya','Morocco','Nigeria','South Africa','Uganda']\n",
    "#Middle Eastern Countries\n",
    "MECountries = ['Egypt','Cyprus','Iran','Israel','Jordan','Lebanon',\n",
    "               'Oman','Qatar','Saudi Arabia','Turkey','United Arab Emirates']\n",
    "#Asian Countries\n",
    "ASCountries = ['Bangladesh','China','Hong Kong','India','Indonesia','Japan',\n",
    "               'Macau','Malaysia','Pakistan','Singapore','South Korea','Taiwan','Thailand']\n",
    "#Oceania Countries\n",
    "OCCountries = ['Australia','New Zealand']"
   ]
  },
  {
   "cell_type": "code",
   "execution_count": 23,
   "metadata": {},
   "outputs": [],
   "source": [
    "LatinDataMF   = dfTimesData[dfTimesData['country'].isin(LTCountries)][['female_male_ratio','year']].dropna().astype({'female_male_ratio':'int64', 'year':'str'}).groupby(['year'], as_index=False).mean()\n",
    "LatinDataIS   = dfTimesData[dfTimesData['country'].isin(LTCountries)][['international_students','year']].dropna().astype({'international_students':'int64', 'year':'str'}).groupby(['year'], as_index=False).mean()\n",
    "NorAmeDataMF  = dfTimesData[dfTimesData['country'].isin(NACountries)][['female_male_ratio','year']].dropna().astype({'female_male_ratio':'int64', 'year':'str'}).groupby(['year'], as_index=False).mean()\n",
    "NorAmeDataIS  = dfTimesData[dfTimesData['country'].isin(NACountries)][['international_students','year']].dropna().astype({'international_students':'int64', 'year':'str'}).groupby(['year'], as_index=False).mean()\n",
    "EuropeDataMF  = dfTimesData[dfTimesData['country'].isin(EUCountries)][['female_male_ratio','year']].dropna().astype({'female_male_ratio':'int64', 'year':'str'}).groupby(['year'], as_index=False).mean()\n",
    "EuropeDataIS  = dfTimesData[dfTimesData['country'].isin(EUCountries)][['international_students','year']].dropna().astype({'international_students':'int64', 'year':'str'}).groupby(['year'], as_index=False).mean()\n",
    "AfricanDataMF = dfTimesData[dfTimesData['country'].isin(AFCountries)][['female_male_ratio','year']].dropna().astype({'female_male_ratio':'int64', 'year':'str'}).groupby(['year'], as_index=False).mean()\n",
    "AfricanDataIS = dfTimesData[dfTimesData['country'].isin(AFCountries)][['international_students','year']].dropna().astype({'international_students':'int64', 'year':'str'}).groupby(['year'], as_index=False).mean()\n",
    "MidEastDataMF = dfTimesData[dfTimesData['country'].isin(MECountries)][['female_male_ratio','year']].dropna().astype({'female_male_ratio':'int64', 'year':'str'}).groupby(['year'], as_index=False).mean()\n",
    "MidEastDataIS = dfTimesData[dfTimesData['country'].isin(MECountries)][['international_students','year']].dropna().astype({'international_students':'int64', 'year':'str'}).groupby(['year'], as_index=False).mean()\n",
    "AsianDataMF   = dfTimesData[dfTimesData['country'].isin(ASCountries)][['female_male_ratio','year']].dropna().astype({'female_male_ratio':'int64', 'year':'str'}).groupby(['year'], as_index=False).mean()\n",
    "AsianDataIS   = dfTimesData[dfTimesData['country'].isin(ASCountries)][['international_students','year']].dropna().astype({'international_students':'int64', 'year':'str'}).groupby(['year'], as_index=False).mean()\n",
    "OceaniaDataMF = dfTimesData[dfTimesData['country'].isin(OCCountries)][['female_male_ratio','year']].dropna().astype({'female_male_ratio':'int64', 'year':'str'}).groupby(['year'], as_index=False).mean()\n",
    "OceaniaDataIS = dfTimesData[dfTimesData['country'].isin(OCCountries)][['international_students','year']].dropna().astype({'international_students':'int64', 'year':'str'}).groupby(['year'], as_index=False).mean()"
   ]
  },
  {
   "cell_type": "code",
   "execution_count": 90,
   "metadata": {},
   "outputs": [
    {
     "data": {
      "text/plain": [
       "<matplotlib.legend.Legend at 0x208bf258640>"
      ]
     },
     "execution_count": 90,
     "metadata": {},
     "output_type": "execute_result"
    },
    {
     "data": {
      "image/png": "[encoded data removed]",
      "text/plain": [
       "<Figure size 1200x1200 with 2 Axes>"
      ]
     },
     "metadata": {
      "needs_background": "light"
     },
     "output_type": "display_data"
    }
   ],
   "source": [
    "fig, axes = plt.subplots(figsize=(12,12), dpi=100, nrows=2 , sharex=False, sharey=False)\n",
    "LatinDataMF.plot(x='year', y='female_male_ratio', ylim=(35,60), ax=axes[0])\n",
    "NorAmeDataMF.plot(x='year', y='female_male_ratio', ylim=(35,60), ax=axes[0])\n",
    "EuropeDataMF.plot(x='year', y='female_male_ratio', ylim=(35,60), ax=axes[0])\n",
    "AfricanDataMF.plot(x='year', y='female_male_ratio', ylim=(35,60), ax=axes[0])\n",
    "MidEastDataMF.plot(x='year', y='female_male_ratio', ylim=(35,60), ax=axes[0])\n",
    "AsianDataMF.plot(x='year', y='female_male_ratio', ylim=(35,60), ax=axes[0])\n",
    "OceaniaDataMF.plot(x='year', y='female_male_ratio', ylim=(35, 60), ax=axes[0])\n",
    "axes[0].legend(['Latin', 'North America', 'Europe', 'African', 'Middle East', 'Asian', 'Oceania'])\n",
    "axes[0].set_title(\"Female ratio of students\")\n",
    "axes[0].set_ylabel(\"Female %\")\n",
    "LatinDataIS.plot(x='year', y='international_students', ylim=(0,25), ax=axes[1])\n",
    "NorAmeDataIS.plot(x='year', y='international_students', ylim=(0,25), ax=axes[1])\n",
    "EuropeDataIS.plot(x='year', y='international_students', ylim=(0,25), ax=axes[1])\n",
    "AfricanDataIS.plot(x='year', y='international_students', ylim=(0,25), ax=axes[1])\n",
    "MidEastDataIS.plot(x='year', y='international_students', ylim=(0,25), ax=axes[1])\n",
    "AsianDataIS.plot(x='year', y='international_students', ylim=(0,25), ax=axes[1])\n",
    "OceaniaDataIS.plot(x='year', y='international_students', ylim=(0,25), ax=axes[1])\n",
    "axes[1].set_title(\"International Percentage of Students\")\n",
    "axes[1].set_ylabel(\"International students %\")\n",
    "axes[1].legend(['Latin', 'North America', 'European', 'African', 'Middle Eastern', 'Asian', 'Oceania'])"
   ]
  },
  {
   "cell_type": "code",
   "execution_count": 37,
   "metadata": {},
   "outputs": [
    {
     "data": {
      "text/plain": [
       "world_rank                                       201-250\n",
       "university_name           University of Hawai’i at Mānoa\n",
       "country                         United States of America\n",
       "teaching                                              32\n",
       "international                                       63.4\n",
       "research                                            35.5\n",
       "citations                                           67.7\n",
       "income                                              44.7\n",
       "total_score                                         46.4\n",
       "num_students                                         NaN\n",
       "student_staff_ratio                                  NaN\n",
       "international_students                               NaN\n",
       "female_male_ratio                                    NaN\n",
       "year                                                2016\n",
       "Name: 2019, dtype: object"
      ]
     },
     "execution_count": 37,
     "metadata": {},
     "output_type": "execute_result"
    }
   ],
   "source": [
    "timesCompleto.loc[2019]"
   ]
  },
  {
   "cell_type": "code",
   "execution_count": 38,
   "metadata": {},
   "outputs": [
    {
     "data": {
      "text/html": [
       "<div>\n",
       "<style scoped>\n",
       "    .dataframe tbody tr th:only-of-type {\n",
       "        vertical-align: middle;\n",
       "    }\n",
       "\n",
       "    .dataframe tbody tr th {\n",
       "        vertical-align: top;\n",
       "    }\n",
       "\n",
       "    .dataframe thead th {\n",
       "        text-align: right;\n",
       "    }\n",
       "</style>\n",
       "<table border=\"1\" class=\"dataframe\">\n",
       "  <thead>\n",
       "    <tr style=\"text-align: right;\">\n",
       "      <th></th>\n",
       "      <th>teaching</th>\n",
       "      <th>research</th>\n",
       "      <th>citations</th>\n",
       "      <th>student_staff_ratio</th>\n",
       "      <th>year</th>\n",
       "    </tr>\n",
       "  </thead>\n",
       "  <tbody>\n",
       "    <tr>\n",
       "      <th>count</th>\n",
       "      <td>2603.000000</td>\n",
       "      <td>2603.000000</td>\n",
       "      <td>2603.000000</td>\n",
       "      <td>2544.000000</td>\n",
       "      <td>2603.000000</td>\n",
       "    </tr>\n",
       "    <tr>\n",
       "      <th>mean</th>\n",
       "      <td>37.801498</td>\n",
       "      <td>35.910257</td>\n",
       "      <td>60.921629</td>\n",
       "      <td>18.445283</td>\n",
       "      <td>2014.075682</td>\n",
       "    </tr>\n",
       "    <tr>\n",
       "      <th>std</th>\n",
       "      <td>17.604218</td>\n",
       "      <td>21.254805</td>\n",
       "      <td>23.073219</td>\n",
       "      <td>11.458698</td>\n",
       "      <td>1.685733</td>\n",
       "    </tr>\n",
       "    <tr>\n",
       "      <th>min</th>\n",
       "      <td>9.900000</td>\n",
       "      <td>2.900000</td>\n",
       "      <td>1.200000</td>\n",
       "      <td>0.600000</td>\n",
       "      <td>2011.000000</td>\n",
       "    </tr>\n",
       "    <tr>\n",
       "      <th>25%</th>\n",
       "      <td>24.700000</td>\n",
       "      <td>19.600000</td>\n",
       "      <td>45.500000</td>\n",
       "      <td>11.975000</td>\n",
       "      <td>2013.000000</td>\n",
       "    </tr>\n",
       "    <tr>\n",
       "      <th>50%</th>\n",
       "      <td>33.900000</td>\n",
       "      <td>30.500000</td>\n",
       "      <td>62.500000</td>\n",
       "      <td>16.100000</td>\n",
       "      <td>2014.000000</td>\n",
       "    </tr>\n",
       "    <tr>\n",
       "      <th>75%</th>\n",
       "      <td>46.400000</td>\n",
       "      <td>47.250000</td>\n",
       "      <td>79.050000</td>\n",
       "      <td>21.500000</td>\n",
       "      <td>2016.000000</td>\n",
       "    </tr>\n",
       "    <tr>\n",
       "      <th>max</th>\n",
       "      <td>99.700000</td>\n",
       "      <td>99.400000</td>\n",
       "      <td>100.000000</td>\n",
       "      <td>162.600000</td>\n",
       "      <td>2016.000000</td>\n",
       "    </tr>\n",
       "  </tbody>\n",
       "</table>\n",
       "</div>"
      ],
      "text/plain": [
       "          teaching     research    citations  student_staff_ratio         year\n",
       "count  2603.000000  2603.000000  2603.000000          2544.000000  2603.000000\n",
       "mean     37.801498    35.910257    60.921629            18.445283  2014.075682\n",
       "std      17.604218    21.254805    23.073219            11.458698     1.685733\n",
       "min       9.900000     2.900000     1.200000             0.600000  2011.000000\n",
       "25%      24.700000    19.600000    45.500000            11.975000  2013.000000\n",
       "50%      33.900000    30.500000    62.500000            16.100000  2014.000000\n",
       "75%      46.400000    47.250000    79.050000            21.500000  2016.000000\n",
       "max      99.700000    99.400000   100.000000           162.600000  2016.000000"
      ]
     },
     "execution_count": 38,
     "metadata": {},
     "output_type": "execute_result"
    }
   ],
   "source": [
    "timesCompleto.describe()"
   ]
  },
  {
   "cell_type": "code",
   "execution_count": 39,
   "metadata": {},
   "outputs": [
    {
     "data": {
      "text/html": [
       "<div>\n",
       "<style scoped>\n",
       "    .dataframe tbody tr th:only-of-type {\n",
       "        vertical-align: middle;\n",
       "    }\n",
       "\n",
       "    .dataframe tbody tr th {\n",
       "        vertical-align: top;\n",
       "    }\n",
       "\n",
       "    .dataframe thead th {\n",
       "        text-align: right;\n",
       "    }\n",
       "</style>\n",
       "<table border=\"1\" class=\"dataframe\">\n",
       "  <thead>\n",
       "    <tr style=\"text-align: right;\">\n",
       "      <th></th>\n",
       "      <th>world_rank</th>\n",
       "      <th>university_name</th>\n",
       "      <th>country</th>\n",
       "      <th>teaching</th>\n",
       "      <th>international</th>\n",
       "      <th>research</th>\n",
       "      <th>citations</th>\n",
       "      <th>income</th>\n",
       "      <th>total_score</th>\n",
       "      <th>num_students</th>\n",
       "      <th>student_staff_ratio</th>\n",
       "      <th>international_students</th>\n",
       "      <th>female_male_ratio</th>\n",
       "      <th>year</th>\n",
       "    </tr>\n",
       "  </thead>\n",
       "  <tbody>\n",
       "    <tr>\n",
       "      <th>0</th>\n",
       "      <td>1</td>\n",
       "      <td>Harvard University</td>\n",
       "      <td>United States of America</td>\n",
       "      <td>99.7</td>\n",
       "      <td>72.4</td>\n",
       "      <td>98.7</td>\n",
       "      <td>98.8</td>\n",
       "      <td>34.5</td>\n",
       "      <td>96.1</td>\n",
       "      <td>20152</td>\n",
       "      <td>8.9</td>\n",
       "      <td>25</td>\n",
       "      <td>NaN</td>\n",
       "      <td>2011</td>\n",
       "    </tr>\n",
       "    <tr>\n",
       "      <th>1</th>\n",
       "      <td>2</td>\n",
       "      <td>California Institute of Technology</td>\n",
       "      <td>United States of America</td>\n",
       "      <td>97.7</td>\n",
       "      <td>54.6</td>\n",
       "      <td>98.0</td>\n",
       "      <td>99.9</td>\n",
       "      <td>83.7</td>\n",
       "      <td>96</td>\n",
       "      <td>2243</td>\n",
       "      <td>6.9</td>\n",
       "      <td>27</td>\n",
       "      <td>33</td>\n",
       "      <td>2011</td>\n",
       "    </tr>\n",
       "    <tr>\n",
       "      <th>2</th>\n",
       "      <td>3</td>\n",
       "      <td>Massachusetts Institute of Technology</td>\n",
       "      <td>United States of America</td>\n",
       "      <td>97.8</td>\n",
       "      <td>82.3</td>\n",
       "      <td>91.4</td>\n",
       "      <td>99.9</td>\n",
       "      <td>87.5</td>\n",
       "      <td>95.5</td>\n",
       "      <td>11074</td>\n",
       "      <td>9.0</td>\n",
       "      <td>33</td>\n",
       "      <td>37</td>\n",
       "      <td>2011</td>\n",
       "    </tr>\n",
       "  </tbody>\n",
       "</table>\n",
       "</div>"
      ],
      "text/plain": [
       "  world_rank                        university_name                   country  \\\n",
       "0          1                     Harvard University  United States of America   \n",
       "1          2     California Institute of Technology  United States of America   \n",
       "2          3  Massachusetts Institute of Technology  United States of America   \n",
       "\n",
       "   teaching international  research  citations income total_score  \\\n",
       "0      99.7          72.4      98.7       98.8   34.5        96.1   \n",
       "1      97.7          54.6      98.0       99.9   83.7          96   \n",
       "2      97.8          82.3      91.4       99.9   87.5        95.5   \n",
       "\n",
       "  num_students  student_staff_ratio international_students female_male_ratio  \\\n",
       "0        20152                  8.9                     25               NaN   \n",
       "1         2243                  6.9                     27                33   \n",
       "2        11074                  9.0                     33                37   \n",
       "\n",
       "   year  \n",
       "0  2011  \n",
       "1  2011  \n",
       "2  2011  "
      ]
     },
     "execution_count": 39,
     "metadata": {},
     "output_type": "execute_result"
    }
   ],
   "source": [
    "timesCompleto.head(3)"
   ]
  },
  {
   "cell_type": "code",
   "execution_count": 40,
   "metadata": {},
   "outputs": [
    {
     "data": {
      "text/plain": [
       "<matplotlib.axes._subplots.AxesSubplot at 0x25da40f3d60>"
      ]
     },
     "execution_count": 40,
     "metadata": {},
     "output_type": "execute_result"
    },
    {
     "data": {
      "image/png": "[encoded data removed]",
      "text/plain": [
       "<Figure size 432x288 with 1 Axes>"
      ]
     },
     "metadata": {
      "needs_background": "light"
     },
     "output_type": "display_data"
    }
   ],
   "source": [
    "timesCompleto['female_male_ratio'].hist(grid=False,bins=10)"
   ]
  },
  {
   "cell_type": "code",
   "execution_count": 74,
   "metadata": {},
   "outputs": [],
   "source": [
    "nomesPaises = list(timesCompleto['country'].unique())\n",
    "#sorted(nomesPaises,key=str.upper)"
   ]
  },
  {
   "cell_type": "code",
   "execution_count": 59,
   "metadata": {},
   "outputs": [
    {
     "name": "stdout",
     "output_type": "stream",
     "text": [
      "Deu certo\n"
     ]
    }
   ],
   "source": [
    "sum = len(LTCountries) + len(NACountries)\n",
    "sum += len(EUCountries) + len(AFCountries)\n",
    "sum += len(MECountries) + len(ASCountries)\n",
    "sum += len(OCCountries)\n",
    "if sum == len(nomesPaises):\n",
    "    print(\"Deu certo\")\n",
    "else:\n",
    "    print(sum)\n",
    "    print(len(nomesPaises))"
   ]
  },
  {
   "cell_type": "code",
   "execution_count": 57,
   "metadata": {},
   "outputs": [
    {
     "name": "stdout",
     "output_type": "stream",
     "text": [
      "New Zealand\n",
      "Pakistan\n"
     ]
    }
   ],
   "source": [
    "for i in range(len(nomesPaises)):\n",
    "    inLT = nomesPaises[i] in LTCountries\n",
    "    inNA = nomesPaises[i] in NACountries\n",
    "    inEU = nomesPaises[i] in EUCountries\n",
    "    inAF = nomesPaises[i] in AFCountries\n",
    "    inME = nomesPaises[i] in MECountries\n",
    "    inAS = nomesPaises[i] in ASCountries\n",
    "    inOC = nomesPaises[i] in OCCountries\n",
    "    if (not (inLT or inNA or inEU or inAF or inME or inAS or inOC)):\n",
    "        print(nomesPaises[i])"
   ]
  },
  {
   "cell_type": "code",
   "execution_count": 47,
   "metadata": {},
   "outputs": [
    {
     "data": {
      "text/html": [
       "<div>\n",
       "<style scoped>\n",
       "    .dataframe tbody tr th:only-of-type {\n",
       "        vertical-align: middle;\n",
       "    }\n",
       "\n",
       "    .dataframe tbody tr th {\n",
       "        vertical-align: top;\n",
       "    }\n",
       "\n",
       "    .dataframe thead th {\n",
       "        text-align: right;\n",
       "    }\n",
       "</style>\n",
       "<table border=\"1\" class=\"dataframe\">\n",
       "  <thead>\n",
       "    <tr style=\"text-align: right;\">\n",
       "      <th></th>\n",
       "      <th>university_name</th>\n",
       "      <th>female_male_ratio</th>\n",
       "      <th>num_students</th>\n",
       "      <th>year</th>\n",
       "    </tr>\n",
       "  </thead>\n",
       "  <tbody>\n",
       "    <tr>\n",
       "      <th>112</th>\n",
       "      <td>Tokyo Institute of Technology</td>\n",
       "      <td>13</td>\n",
       "      <td>9586</td>\n",
       "      <td>2011</td>\n",
       "    </tr>\n",
       "    <tr>\n",
       "      <th>307</th>\n",
       "      <td>Tokyo Institute of Technology</td>\n",
       "      <td>13</td>\n",
       "      <td>9586</td>\n",
       "      <td>2012</td>\n",
       "    </tr>\n",
       "    <tr>\n",
       "      <th>579</th>\n",
       "      <td>Polytechnic University of Catalonia</td>\n",
       "      <td>12</td>\n",
       "      <td>22893</td>\n",
       "      <td>2012</td>\n",
       "    </tr>\n",
       "    <tr>\n",
       "      <th>730</th>\n",
       "      <td>Tokyo Institute of Technology</td>\n",
       "      <td>13</td>\n",
       "      <td>9586</td>\n",
       "      <td>2013</td>\n",
       "    </tr>\n",
       "    <tr>\n",
       "      <th>1126</th>\n",
       "      <td>Tokyo Institute of Technology</td>\n",
       "      <td>13</td>\n",
       "      <td>9586</td>\n",
       "      <td>2014</td>\n",
       "    </tr>\n",
       "    <tr>\n",
       "      <th>1361</th>\n",
       "      <td>Indian Institute of Technology Kanpur</td>\n",
       "      <td>13</td>\n",
       "      <td>6167</td>\n",
       "      <td>2014</td>\n",
       "    </tr>\n",
       "    <tr>\n",
       "      <th>1544</th>\n",
       "      <td>Tokyo Institute of Technology</td>\n",
       "      <td>13</td>\n",
       "      <td>9586</td>\n",
       "      <td>2015</td>\n",
       "    </tr>\n",
       "    <tr>\n",
       "      <th>1760</th>\n",
       "      <td>Ewha Womans University</td>\n",
       "      <td>10</td>\n",
       "      <td>17625</td>\n",
       "      <td>2015</td>\n",
       "    </tr>\n",
       "    <tr>\n",
       "      <th>2050</th>\n",
       "      <td>Tokyo Institute of Technology</td>\n",
       "      <td>13</td>\n",
       "      <td>9586</td>\n",
       "      <td>2016</td>\n",
       "    </tr>\n",
       "    <tr>\n",
       "      <th>2227</th>\n",
       "      <td>Ewha Womans University</td>\n",
       "      <td>10</td>\n",
       "      <td>17625</td>\n",
       "      <td>2016</td>\n",
       "    </tr>\n",
       "    <tr>\n",
       "      <th>2272</th>\n",
       "      <td>Polytechnic University of Catalonia</td>\n",
       "      <td>12</td>\n",
       "      <td>22893</td>\n",
       "      <td>2016</td>\n",
       "    </tr>\n",
       "    <tr>\n",
       "      <th>2333</th>\n",
       "      <td>Indian Institute of Technology Guwahati</td>\n",
       "      <td>14</td>\n",
       "      <td>4710</td>\n",
       "      <td>2016</td>\n",
       "    </tr>\n",
       "    <tr>\n",
       "      <th>2334</th>\n",
       "      <td>Indian Institute of Technology Kanpur</td>\n",
       "      <td>13</td>\n",
       "      <td>6167</td>\n",
       "      <td>2016</td>\n",
       "    </tr>\n",
       "    <tr>\n",
       "      <th>2501</th>\n",
       "      <td>Kyushu Institute of Technology</td>\n",
       "      <td>11</td>\n",
       "      <td>5890</td>\n",
       "      <td>2016</td>\n",
       "    </tr>\n",
       "    <tr>\n",
       "      <th>2536</th>\n",
       "      <td>Pontifical Catholic University of Paraná</td>\n",
       "      <td>1</td>\n",
       "      <td>7741</td>\n",
       "      <td>2016</td>\n",
       "    </tr>\n",
       "    <tr>\n",
       "      <th>2582</th>\n",
       "      <td>Toyohashi University of Technology</td>\n",
       "      <td>9</td>\n",
       "      <td>2153</td>\n",
       "      <td>2016</td>\n",
       "    </tr>\n",
       "  </tbody>\n",
       "</table>\n",
       "</div>"
      ],
      "text/plain": [
       "                               university_name female_male_ratio num_students  \\\n",
       "112              Tokyo Institute of Technology                13         9586   \n",
       "307              Tokyo Institute of Technology                13         9586   \n",
       "579        Polytechnic University of Catalonia                12        22893   \n",
       "730              Tokyo Institute of Technology                13         9586   \n",
       "1126             Tokyo Institute of Technology                13         9586   \n",
       "1361     Indian Institute of Technology Kanpur                13         6167   \n",
       "1544             Tokyo Institute of Technology                13         9586   \n",
       "1760                    Ewha Womans University                10        17625   \n",
       "2050             Tokyo Institute of Technology                13         9586   \n",
       "2227                    Ewha Womans University                10        17625   \n",
       "2272       Polytechnic University of Catalonia                12        22893   \n",
       "2333   Indian Institute of Technology Guwahati                14         4710   \n",
       "2334     Indian Institute of Technology Kanpur                13         6167   \n",
       "2501            Kyushu Institute of Technology                11         5890   \n",
       "2536  Pontifical Catholic University of Paraná                 1         7741   \n",
       "2582        Toyohashi University of Technology                 9         2153   \n",
       "\n",
       "      year  \n",
       "112   2011  \n",
       "307   2012  \n",
       "579   2012  \n",
       "730   2013  \n",
       "1126  2014  \n",
       "1361  2014  \n",
       "1544  2015  \n",
       "1760  2015  \n",
       "2050  2016  \n",
       "2227  2016  \n",
       "2272  2016  \n",
       "2333  2016  \n",
       "2334  2016  \n",
       "2501  2016  \n",
       "2536  2016  \n",
       "2582  2016  "
      ]
     },
     "execution_count": 47,
     "metadata": {},
     "output_type": "execute_result"
    }
   ],
   "source": [
    "timesCompleto[timesCompleto['female_male_ratio'] < 15][['university_name','female_male_ratio','num_students','year']]"
   ]
  },
  {
   "cell_type": "code",
   "execution_count": 48,
   "metadata": {},
   "outputs": [
    {
     "data": {
      "text/html": [
       "<div>\n",
       "<style scoped>\n",
       "    .dataframe tbody tr th:only-of-type {\n",
       "        vertical-align: middle;\n",
       "    }\n",
       "\n",
       "    .dataframe tbody tr th {\n",
       "        vertical-align: top;\n",
       "    }\n",
       "\n",
       "    .dataframe thead th {\n",
       "        text-align: right;\n",
       "    }\n",
       "</style>\n",
       "<table border=\"1\" class=\"dataframe\">\n",
       "  <thead>\n",
       "    <tr style=\"text-align: right;\">\n",
       "      <th></th>\n",
       "      <th>university_name</th>\n",
       "      <th>country</th>\n",
       "      <th>female_male_ratio</th>\n",
       "      <th>num_students</th>\n",
       "      <th>year</th>\n",
       "    </tr>\n",
       "  </thead>\n",
       "  <tbody>\n",
       "    <tr>\n",
       "      <th>2036</th>\n",
       "      <td>Royal Veterinary College</td>\n",
       "      <td>United Kingdom</td>\n",
       "      <td>77</td>\n",
       "      <td>1819</td>\n",
       "      <td>2016</td>\n",
       "    </tr>\n",
       "    <tr>\n",
       "      <th>2037</th>\n",
       "      <td>Rush University</td>\n",
       "      <td>United States of America</td>\n",
       "      <td>71</td>\n",
       "      <td>1855</td>\n",
       "      <td>2016</td>\n",
       "    </tr>\n",
       "    <tr>\n",
       "      <th>2388</th>\n",
       "      <td>Soochow University</td>\n",
       "      <td>China</td>\n",
       "      <td>78</td>\n",
       "      <td>36465</td>\n",
       "      <td>2016</td>\n",
       "    </tr>\n",
       "    <tr>\n",
       "      <th>2398</th>\n",
       "      <td>United Arab Emirates University</td>\n",
       "      <td>United Arab Emirates</td>\n",
       "      <td>76</td>\n",
       "      <td>9221</td>\n",
       "      <td>2016</td>\n",
       "    </tr>\n",
       "    <tr>\n",
       "      <th>2404</th>\n",
       "      <td>Adam Mickiewicz University</td>\n",
       "      <td>Poland</td>\n",
       "      <td>71</td>\n",
       "      <td>40633</td>\n",
       "      <td>2016</td>\n",
       "    </tr>\n",
       "    <tr>\n",
       "      <th>2413</th>\n",
       "      <td>Anadolu University</td>\n",
       "      <td>Turkey</td>\n",
       "      <td>78</td>\n",
       "      <td>379231</td>\n",
       "      <td>2016</td>\n",
       "    </tr>\n",
       "    <tr>\n",
       "      <th>2540</th>\n",
       "      <td>Qatar University</td>\n",
       "      <td>Qatar</td>\n",
       "      <td>74</td>\n",
       "      <td>9583</td>\n",
       "      <td>2016</td>\n",
       "    </tr>\n",
       "  </tbody>\n",
       "</table>\n",
       "</div>"
      ],
      "text/plain": [
       "                      university_name                   country  \\\n",
       "2036         Royal Veterinary College            United Kingdom   \n",
       "2037                  Rush University  United States of America   \n",
       "2388               Soochow University                     China   \n",
       "2398  United Arab Emirates University      United Arab Emirates   \n",
       "2404       Adam Mickiewicz University                    Poland   \n",
       "2413               Anadolu University                    Turkey   \n",
       "2540                 Qatar University                     Qatar   \n",
       "\n",
       "     female_male_ratio num_students  year  \n",
       "2036                77         1819  2016  \n",
       "2037                71         1855  2016  \n",
       "2388                78        36465  2016  \n",
       "2398                76         9221  2016  \n",
       "2404                71        40633  2016  \n",
       "2413                78       379231  2016  \n",
       "2540                74         9583  2016  "
      ]
     },
     "execution_count": 48,
     "metadata": {},
     "output_type": "execute_result"
    }
   ],
   "source": [
    "timesCompleto[timesCompleto['female_male_ratio'] > 70][['university_name','country','female_male_ratio','num_students','year']]"
   ]
  },
  {
   "cell_type": "code",
   "execution_count": 49,
   "metadata": {},
   "outputs": [
    {
     "data": {
      "text/html": [
       "<div>\n",
       "<style scoped>\n",
       "    .dataframe tbody tr th:only-of-type {\n",
       "        vertical-align: middle;\n",
       "    }\n",
       "\n",
       "    .dataframe tbody tr th {\n",
       "        vertical-align: top;\n",
       "    }\n",
       "\n",
       "    .dataframe thead th {\n",
       "        text-align: right;\n",
       "    }\n",
       "</style>\n",
       "<table border=\"1\" class=\"dataframe\">\n",
       "  <thead>\n",
       "    <tr style=\"text-align: right;\">\n",
       "      <th></th>\n",
       "      <th>world_rank</th>\n",
       "      <th>university_name</th>\n",
       "      <th>country</th>\n",
       "      <th>teaching</th>\n",
       "      <th>international</th>\n",
       "      <th>research</th>\n",
       "      <th>citations</th>\n",
       "      <th>income</th>\n",
       "      <th>total_score</th>\n",
       "      <th>num_students</th>\n",
       "      <th>student_staff_ratio</th>\n",
       "      <th>international_students</th>\n",
       "      <th>female_male_ratio</th>\n",
       "      <th>year</th>\n",
       "    </tr>\n",
       "  </thead>\n",
       "  <tbody>\n",
       "    <tr>\n",
       "      <th>2536</th>\n",
       "      <td>601-800</td>\n",
       "      <td>Pontifical Catholic University of Paraná</td>\n",
       "      <td>Brazil</td>\n",
       "      <td>18.4</td>\n",
       "      <td>18.6</td>\n",
       "      <td>6.5</td>\n",
       "      <td>32.2</td>\n",
       "      <td>28.0</td>\n",
       "      <td>-</td>\n",
       "      <td>7,741</td>\n",
       "      <td>10.9</td>\n",
       "      <td>2%</td>\n",
       "      <td>1 : 99</td>\n",
       "      <td>2016</td>\n",
       "    </tr>\n",
       "  </tbody>\n",
       "</table>\n",
       "</div>"
      ],
      "text/plain": [
       "     world_rank                           university_name country  teaching  \\\n",
       "2536    601-800  Pontifical Catholic University of Paraná  Brazil      18.4   \n",
       "\n",
       "     international  research  citations income total_score num_students  \\\n",
       "2536          18.6       6.5       32.2   28.0           -        7,741   \n",
       "\n",
       "      student_staff_ratio international_students female_male_ratio  year  \n",
       "2536                 10.9                     2%            1 : 99  2016  "
      ]
     },
     "execution_count": 49,
     "metadata": {},
     "output_type": "execute_result"
    }
   ],
   "source": [
    "timesData[timesData['university_name'] == 'Pontifical Catholic University of Paraná']"
   ]
  },
  {
   "cell_type": "code",
   "execution_count": 115,
   "metadata": {},
   "outputs": [
    {
     "data": {
      "text/plain": [
       "<matplotlib.axes._subplots.AxesSubplot at 0x1e1817959d0>"
      ]
     },
     "execution_count": 115,
     "metadata": {},
     "output_type": "execute_result"
    },
    {
     "data": {
      "image/png": "[encoded data removed]",
      "text/plain": [
       "<Figure size 432x288 with 1 Axes>"
      ]
     },
     "metadata": {
      "needs_background": "light"
     },
     "output_type": "display_data"
    }
   ],
   "source": [
    "timesCompleto.plot.scatter(x=8,y=12,xticks=range(0,100,25),xlim=(0,100))"
   ]
  },
  {
   "cell_type": "code",
   "execution_count": 32,
   "metadata": {},
   "outputs": [],
   "source": [
    "LTData = dfTimesData[dfTimesData['country'].isin(LTCountries)]\n",
    "EUData = dfTimesData[dfTimesData['country'].isin(EUCountries)]\n",
    "NAData = dfTimesData[dfTimesData['country'].isin(NACountries)]\n",
    "AFData = dfTimesData[dfTimesData['country'].isin(AFCountries)]\n",
    "MEData = dfTimesData[dfTimesData['country'].isin(MECountries)]\n",
    "ASData = dfTimesData[dfTimesData['country'].isin(ASCountries)]\n",
    "OCData = dfTimesData[dfTimesData['country'].isin(OCCountries)]"
   ]
  },
  {
   "cell_type": "code",
   "execution_count": 100,
   "metadata": {},
   "outputs": [
    {
     "data": {
      "text/plain": [
       "Text(0.5, 1.0, '% Estudantes internacionais X Pontuação')"
      ]
     },
     "execution_count": 100,
     "metadata": {},
     "output_type": "execute_result"
    },
    {
     "data": {
      "image/png": "[encoded data removed]",
      "text/plain": [
       "<Figure size 864x576 with 1 Axes>"
      ]
     },
     "metadata": {
      "needs_background": "light"
     },
     "output_type": "display_data"
    }
   ],
   "source": [
    "plt.figure(figsize=(12,8))\n",
    "plt.scatter(y=dfTimesData['international_students'],x=dfTimesData['total_score'],c='blue',alpha=0.9)\n",
    "plt.xlim((0,100))\n",
    "plt.ylim((0,90))\n",
    "plt.xlabel(\"Pontuação\")\n",
    "plt.ylabel(\"% Estudantes Internacionais\")\n",
    "plt.title(\"% Estudantes internacionais X Pontuação\")"
   ]
  },
  {
   "cell_type": "code",
   "execution_count": 55,
   "metadata": {},
   "outputs": [
    {
     "data": {
      "text/plain": [
       "<matplotlib.collections.PathCollection at 0x208b730adf0>"
      ]
     },
     "execution_count": 55,
     "metadata": {},
     "output_type": "execute_result"
    },
    {
     "data": {
      "image/png": "[encoded data removed]",
      "text/plain": [
       "<Figure size 864x576 with 1 Axes>"
      ]
     },
     "metadata": {
      "needs_background": "light"
     },
     "output_type": "display_data"
    }
   ],
   "source": [
    "plt.figure(figsize=(12,8))\n",
    "plt.xlim((0,100))\n",
    "plt.ylim((0,70))\n",
    "plt.scatter(y=LTData['international_students'],x=LTData['total_score'],c='red',alpha=0.9)"
   ]
  },
  {
   "cell_type": "code",
   "execution_count": 96,
   "metadata": {},
   "outputs": [
    {
     "data": {
      "text/plain": [
       "<matplotlib.collections.PathCollection at 0x208c3854a00>"
      ]
     },
     "execution_count": 96,
     "metadata": {},
     "output_type": "execute_result"
    },
    {
     "data": {
      "image/png": "[encoded data removed]",
      "text/plain": [
       "<Figure size 864x576 with 1 Axes>"
      ]
     },
     "metadata": {
      "needs_background": "light"
     },
     "output_type": "display_data"
    }
   ],
   "source": [
    "plt.figure(figsize=(12,8))\n",
    "plt.xlim((0,100))\n",
    "plt.ylim((0,90))\n",
    "plt.scatter(y=EUData['international_students'],x=EUData['total_score'],c='blue',alpha=0.9)"
   ]
  },
  {
   "cell_type": "code",
   "execution_count": 97,
   "metadata": {},
   "outputs": [
    {
     "data": {
      "text/plain": [
       "<matplotlib.collections.PathCollection at 0x208c381fb80>"
      ]
     },
     "execution_count": 97,
     "metadata": {},
     "output_type": "execute_result"
    },
    {
     "data": {
      "image/png": "[encoded data removed]",
      "text/plain": [
       "<Figure size 864x576 with 1 Axes>"
      ]
     },
     "metadata": {
      "needs_background": "light"
     },
     "output_type": "display_data"
    }
   ],
   "source": [
    "plt.figure(figsize=(12,8))\n",
    "plt.xlim((0,100))\n",
    "plt.ylim((0,90))\n",
    "plt.scatter(y=NAData['international_students'],x=NAData['total_score'],c='black',alpha=0.9)"
   ]
  },
  {
   "cell_type": "code",
   "execution_count": 95,
   "metadata": {},
   "outputs": [
    {
     "data": {
      "text/plain": [
       "<matplotlib.collections.PathCollection at 0x208c0693ac0>"
      ]
     },
     "execution_count": 95,
     "metadata": {},
     "output_type": "execute_result"
    },
    {
     "data": {
      "image/png": "[encoded data removed]",
      "text/plain": [
       "<Figure size 864x576 with 1 Axes>"
      ]
     },
     "metadata": {
      "needs_background": "light"
     },
     "output_type": "display_data"
    }
   ],
   "source": [
    "plt.figure(figsize=(12,8))\n",
    "plt.xlim((0,100))\n",
    "plt.ylim((0,90))\n",
    "plt.scatter(y=AFData['international_students'],x=AFData['total_score'],c='green',alpha=0.9)"
   ]
  },
  {
   "cell_type": "code",
   "execution_count": 94,
   "metadata": {},
   "outputs": [
    {
     "data": {
      "text/plain": [
       "<matplotlib.collections.PathCollection at 0x208bf63cb80>"
      ]
     },
     "execution_count": 94,
     "metadata": {},
     "output_type": "execute_result"
    },
    {
     "data": {
      "image/png": "[encoded data removed]",
      "text/plain": [
       "<Figure size 864x576 with 1 Axes>"
      ]
     },
     "metadata": {
      "needs_background": "light"
     },
     "output_type": "display_data"
    }
   ],
   "source": [
    "plt.figure(figsize=(12,8))\n",
    "plt.xlim((0,100))\n",
    "plt.ylim((0,90))\n",
    "plt.scatter(y=MEData['international_students'],x=MEData['total_score'],c='yellow',alpha=0.9)"
   ]
  },
  {
   "cell_type": "code",
   "execution_count": 98,
   "metadata": {},
   "outputs": [
    {
     "data": {
      "text/plain": [
       "<matplotlib.collections.PathCollection at 0x208c1084eb0>"
      ]
     },
     "execution_count": 98,
     "metadata": {},
     "output_type": "execute_result"
    },
    {
     "data": {
      "image/png": "[encoded data removed]",
      "text/plain": [
       "<Figure size 864x576 with 1 Axes>"
      ]
     },
     "metadata": {
      "needs_background": "light"
     },
     "output_type": "display_data"
    }
   ],
   "source": [
    "plt.figure(figsize=(12,8))\n",
    "plt.xlim((0,100))\n",
    "plt.ylim((0,90))\n",
    "plt.scatter(y=ASData['international_students'],x=ASData['total_score'],c='orange',alpha=0.9)"
   ]
  },
  {
   "cell_type": "code",
   "execution_count": 99,
   "metadata": {},
   "outputs": [
    {
     "data": {
      "text/plain": [
       "<matplotlib.collections.PathCollection at 0x208c153cb80>"
      ]
     },
     "execution_count": 99,
     "metadata": {},
     "output_type": "execute_result"
    },
    {
     "data": {
      "image/png": "[encoded data removed]",
      "text/plain": [
       "<Figure size 864x576 with 1 Axes>"
      ]
     },
     "metadata": {
      "needs_background": "light"
     },
     "output_type": "display_data"
    }
   ],
   "source": [
    "plt.figure(figsize=(12,8))\n",
    "plt.xlim((0,100))\n",
    "plt.ylim((0,90))\n",
    "plt.scatter(y=OCData['international_students'],x=OCData['total_score'],c='grey',alpha=0.9)"
   ]
  },
  {
   "cell_type": "code",
   "execution_count": 93,
   "metadata": {},
   "outputs": [
    {
     "data": {
      "text/html": [
       "<div>\n",
       "<style scoped>\n",
       "    .dataframe tbody tr th:only-of-type {\n",
       "        vertical-align: middle;\n",
       "    }\n",
       "\n",
       "    .dataframe tbody tr th {\n",
       "        vertical-align: top;\n",
       "    }\n",
       "\n",
       "    .dataframe thead th {\n",
       "        text-align: right;\n",
       "    }\n",
       "</style>\n",
       "<table border=\"1\" class=\"dataframe\">\n",
       "  <thead>\n",
       "    <tr style=\"text-align: right;\">\n",
       "      <th></th>\n",
       "      <th>world_rank</th>\n",
       "      <th>university_name</th>\n",
       "      <th>country</th>\n",
       "      <th>teaching</th>\n",
       "      <th>international</th>\n",
       "      <th>research</th>\n",
       "      <th>citations</th>\n",
       "      <th>income</th>\n",
       "      <th>total_score</th>\n",
       "      <th>num_students</th>\n",
       "      <th>student_staff_ratio</th>\n",
       "      <th>international_students</th>\n",
       "      <th>female_male_ratio</th>\n",
       "      <th>year</th>\n",
       "    </tr>\n",
       "  </thead>\n",
       "  <tbody>\n",
       "    <tr>\n",
       "      <th>2411</th>\n",
       "      <td>601-800</td>\n",
       "      <td>American University of Sharjah</td>\n",
       "      <td>United Arab Emirates</td>\n",
       "      <td>12.4</td>\n",
       "      <td>95.6</td>\n",
       "      <td>10.6</td>\n",
       "      <td>13.3</td>\n",
       "      <td>33.3</td>\n",
       "      <td>18.9</td>\n",
       "      <td>5226</td>\n",
       "      <td>14.1</td>\n",
       "      <td>82</td>\n",
       "      <td>48</td>\n",
       "      <td>2016</td>\n",
       "    </tr>\n",
       "  </tbody>\n",
       "</table>\n",
       "</div>"
      ],
      "text/plain": [
       "     world_rank                 university_name               country  \\\n",
       "2411    601-800  American University of Sharjah  United Arab Emirates   \n",
       "\n",
       "      teaching international  research  citations income total_score  \\\n",
       "2411      12.4          95.6      10.6       13.3   33.3        18.9   \n",
       "\n",
       "     num_students  student_staff_ratio international_students  \\\n",
       "2411         5226                 14.1                     82   \n",
       "\n",
       "     female_male_ratio  year  \n",
       "2411                48  2016  "
      ]
     },
     "execution_count": 93,
     "metadata": {},
     "output_type": "execute_result"
    }
   ],
   "source": [
    "dfTimesData['international_students'].max()\n",
    "dfTimesData[dfTimesData['international_students']==82]"
   ]
  },
  {
   "cell_type": "code",
   "execution_count": 65,
   "metadata": {},
   "outputs": [
    {
     "data": {
      "text/plain": [
       "<matplotlib.collections.PathCollection at 0x208bcb51e20>"
      ]
     },
     "execution_count": 65,
     "metadata": {},
     "output_type": "execute_result"
    },
    {
     "data": {
      "image/png": "[encoded data removed]",
      "text/plain": [
       "<Figure size 864x576 with 1 Axes>"
      ]
     },
     "metadata": {
      "needs_background": "light"
     },
     "output_type": "display_data"
    }
   ],
   "source": [
    "plt.figure(figsize=(12,8))\n",
    "plt.xlim((0,100))\n",
    "plt.scatter(y=EUData['num_students'],x=EUData['total_score'],c='orange',alpha=0.9)"
   ]
  },
  {
   "cell_type": "code",
   "execution_count": 66,
   "metadata": {},
   "outputs": [
    {
     "data": {
      "text/plain": [
       "<matplotlib.collections.PathCollection at 0x208bc99f250>"
      ]
     },
     "execution_count": 66,
     "metadata": {},
     "output_type": "execute_result"
    },
    {
     "data": {
      "image/png": "[encoded data removed]",
      "text/plain": [
       "<Figure size 864x576 with 1 Axes>"
      ]
     },
     "metadata": {
      "needs_background": "light"
     },
     "output_type": "display_data"
    }
   ],
   "source": [
    "plt.figure(figsize=(12,8))\n",
    "plt.xlim((0,100))\n",
    "plt.scatter(y=NAData['num_students'],x=NAData['total_score'],c='orange',alpha=0.9)"
   ]
  },
  {
   "cell_type": "code",
   "execution_count": 67,
   "metadata": {},
   "outputs": [
    {
     "data": {
      "text/plain": [
       "<matplotlib.collections.PathCollection at 0x208bccf7b50>"
      ]
     },
     "execution_count": 67,
     "metadata": {},
     "output_type": "execute_result"
    },
    {
     "data": {
      "image/png": "[encoded data removed]",
      "text/plain": [
       "<Figure size 864x576 with 1 Axes>"
      ]
     },
     "metadata": {
      "needs_background": "light"
     },
     "output_type": "display_data"
    }
   ],
   "source": [
    "plt.figure(figsize=(12,8))\n",
    "plt.xlim((0,100))\n",
    "plt.scatter(y=LTData['num_students'],x=LTData['total_score'],c='orange',alpha=0.9)"
   ]
  },
  {
   "cell_type": "code",
   "execution_count": 68,
   "metadata": {},
   "outputs": [
    {
     "data": {
      "text/plain": [
       "<matplotlib.collections.PathCollection at 0x208bcea6f10>"
      ]
     },
     "execution_count": 68,
     "metadata": {},
     "output_type": "execute_result"
    },
    {
     "data": {
      "image/png": "[encoded data removed]",
      "text/plain": [
       "<Figure size 864x576 with 1 Axes>"
      ]
     },
     "metadata": {
      "needs_background": "light"
     },
     "output_type": "display_data"
    }
   ],
   "source": [
    "plt.figure(figsize=(12,8))\n",
    "plt.xlim((0,100))\n",
    "plt.scatter(y=ASData['num_students'],x=ASData['total_score'],c='orange',alpha=0.9)"
   ]
  },
  {
   "cell_type": "code",
   "execution_count": 69,
   "metadata": {},
   "outputs": [
    {
     "data": {
      "text/plain": [
       "<matplotlib.collections.PathCollection at 0x208bd25e880>"
      ]
     },
     "execution_count": 69,
     "metadata": {},
     "output_type": "execute_result"
    },
    {
     "data": {
      "image/png": "[encoded data removed]",
      "text/plain": [
       "<Figure size 864x576 with 1 Axes>"
      ]
     },
     "metadata": {
      "needs_background": "light"
     },
     "output_type": "display_data"
    }
   ],
   "source": [
    "plt.figure(figsize=(12,8))\n",
    "plt.xlim((0,100))\n",
    "plt.scatter(y=MEData['num_students'],x=MEData['total_score'],c='orange',alpha=0.9)"
   ]
  },
  {
   "cell_type": "code",
   "execution_count": 70,
   "metadata": {},
   "outputs": [
    {
     "data": {
      "text/plain": [
       "<matplotlib.collections.PathCollection at 0x208bd1e2670>"
      ]
     },
     "execution_count": 70,
     "metadata": {},
     "output_type": "execute_result"
    },
    {
     "data": {
      "image/png": "[encoded data removed]",
      "text/plain": [
       "<Figure size 864x576 with 1 Axes>"
      ]
     },
     "metadata": {
      "needs_background": "light"
     },
     "output_type": "display_data"
    }
   ],
   "source": [
    "plt.figure(figsize=(12,8))\n",
    "plt.xlim((0,100))\n",
    "plt.scatter(y=OCData['num_students'],x=OCData['total_score'],c='orange',alpha=0.9)"
   ]
  },
  {
   "cell_type": "markdown",
   "metadata": {},
   "source": [
    "<h1> Shanghai Data<h1>"
   ]
  },
  {
   "cell_type": "code",
   "execution_count": 11,
   "metadata": {},
   "outputs": [],
   "source": [
    "shData = pd.read_csv('shanghaiData.csv')"
   ]
  },
  {
   "cell_type": "code",
   "execution_count": 12,
   "metadata": {},
   "outputs": [
    {
     "data": {
      "text/html": [
       "<div>\n",
       "<style scoped>\n",
       "    .dataframe tbody tr th:only-of-type {\n",
       "        vertical-align: middle;\n",
       "    }\n",
       "\n",
       "    .dataframe tbody tr th {\n",
       "        vertical-align: top;\n",
       "    }\n",
       "\n",
       "    .dataframe thead th {\n",
       "        text-align: right;\n",
       "    }\n",
       "</style>\n",
       "<table border=\"1\" class=\"dataframe\">\n",
       "  <thead>\n",
       "    <tr style=\"text-align: right;\">\n",
       "      <th></th>\n",
       "      <th>world_rank</th>\n",
       "      <th>university_name</th>\n",
       "      <th>national_rank</th>\n",
       "      <th>total_score</th>\n",
       "      <th>alumni</th>\n",
       "      <th>award</th>\n",
       "      <th>hici</th>\n",
       "      <th>ns</th>\n",
       "      <th>pub</th>\n",
       "      <th>pcp</th>\n",
       "      <th>year</th>\n",
       "    </tr>\n",
       "  </thead>\n",
       "  <tbody>\n",
       "    <tr>\n",
       "      <th>0</th>\n",
       "      <td>1</td>\n",
       "      <td>Harvard University</td>\n",
       "      <td>1</td>\n",
       "      <td>100.0</td>\n",
       "      <td>100.0</td>\n",
       "      <td>100.0</td>\n",
       "      <td>100.0</td>\n",
       "      <td>100.0</td>\n",
       "      <td>100.0</td>\n",
       "      <td>72.4</td>\n",
       "      <td>2005</td>\n",
       "    </tr>\n",
       "    <tr>\n",
       "      <th>1</th>\n",
       "      <td>2</td>\n",
       "      <td>University of Cambridge</td>\n",
       "      <td>1</td>\n",
       "      <td>73.6</td>\n",
       "      <td>99.8</td>\n",
       "      <td>93.4</td>\n",
       "      <td>53.3</td>\n",
       "      <td>56.6</td>\n",
       "      <td>70.9</td>\n",
       "      <td>66.9</td>\n",
       "      <td>2005</td>\n",
       "    </tr>\n",
       "    <tr>\n",
       "      <th>2</th>\n",
       "      <td>3</td>\n",
       "      <td>Stanford University</td>\n",
       "      <td>2</td>\n",
       "      <td>73.4</td>\n",
       "      <td>41.1</td>\n",
       "      <td>72.2</td>\n",
       "      <td>88.5</td>\n",
       "      <td>70.9</td>\n",
       "      <td>72.3</td>\n",
       "      <td>65.0</td>\n",
       "      <td>2005</td>\n",
       "    </tr>\n",
       "  </tbody>\n",
       "</table>\n",
       "</div>"
      ],
      "text/plain": [
       "  world_rank          university_name national_rank  total_score  alumni  \\\n",
       "0          1       Harvard University             1        100.0   100.0   \n",
       "1          2  University of Cambridge             1         73.6    99.8   \n",
       "2          3      Stanford University             2         73.4    41.1   \n",
       "\n",
       "   award   hici     ns    pub   pcp  year  \n",
       "0  100.0  100.0  100.0  100.0  72.4  2005  \n",
       "1   93.4   53.3   56.6   70.9  66.9  2005  \n",
       "2   72.2   88.5   70.9   72.3  65.0  2005  "
      ]
     },
     "execution_count": 12,
     "metadata": {},
     "output_type": "execute_result"
    }
   ],
   "source": [
    "shData.head(3)"
   ]
  },
  {
   "cell_type": "code",
   "execution_count": 13,
   "metadata": {},
   "outputs": [
    {
     "data": {
      "text/html": [
       "<div>\n",
       "<style scoped>\n",
       "    .dataframe tbody tr th:only-of-type {\n",
       "        vertical-align: middle;\n",
       "    }\n",
       "\n",
       "    .dataframe tbody tr th {\n",
       "        vertical-align: top;\n",
       "    }\n",
       "\n",
       "    .dataframe thead th {\n",
       "        text-align: right;\n",
       "    }\n",
       "</style>\n",
       "<table border=\"1\" class=\"dataframe\">\n",
       "  <thead>\n",
       "    <tr style=\"text-align: right;\">\n",
       "      <th></th>\n",
       "      <th>world_rank</th>\n",
       "      <th>university_name</th>\n",
       "      <th>national_rank</th>\n",
       "      <th>total_score</th>\n",
       "      <th>alumni</th>\n",
       "      <th>award</th>\n",
       "      <th>hici</th>\n",
       "      <th>ns</th>\n",
       "      <th>pub</th>\n",
       "      <th>pcp</th>\n",
       "      <th>year</th>\n",
       "    </tr>\n",
       "  </thead>\n",
       "  <tbody>\n",
       "    <tr>\n",
       "      <th>1413</th>\n",
       "      <td>403-510</td>\n",
       "      <td>Federal University of Minas Gerais</td>\n",
       "      <td>4</td>\n",
       "      <td>NaN</td>\n",
       "      <td>0.0</td>\n",
       "      <td>0.0</td>\n",
       "      <td>0.0</td>\n",
       "      <td>6.8</td>\n",
       "      <td>30.9</td>\n",
       "      <td>14.3</td>\n",
       "      <td>2007</td>\n",
       "    </tr>\n",
       "    <tr>\n",
       "      <th>1824</th>\n",
       "      <td>303-401</td>\n",
       "      <td>Federal University of Minas Gerais</td>\n",
       "      <td>3-4</td>\n",
       "      <td>NaN</td>\n",
       "      <td>0.0</td>\n",
       "      <td>0.0</td>\n",
       "      <td>7.3</td>\n",
       "      <td>6.6</td>\n",
       "      <td>31.8</td>\n",
       "      <td>15.3</td>\n",
       "      <td>2008</td>\n",
       "    </tr>\n",
       "    <tr>\n",
       "      <th>2328</th>\n",
       "      <td>303-401</td>\n",
       "      <td>Federal University of Minas Gerais</td>\n",
       "      <td>3-4</td>\n",
       "      <td>NaN</td>\n",
       "      <td>0.0</td>\n",
       "      <td>0.0</td>\n",
       "      <td>7.3</td>\n",
       "      <td>6.6</td>\n",
       "      <td>33.0</td>\n",
       "      <td>15.8</td>\n",
       "      <td>2009</td>\n",
       "    </tr>\n",
       "    <tr>\n",
       "      <th>2825</th>\n",
       "      <td>301-400</td>\n",
       "      <td>Federal University of Minas Gerais</td>\n",
       "      <td>3-5</td>\n",
       "      <td>NaN</td>\n",
       "      <td>0.0</td>\n",
       "      <td>0.0</td>\n",
       "      <td>7.2</td>\n",
       "      <td>5.8</td>\n",
       "      <td>36.6</td>\n",
       "      <td>16.5</td>\n",
       "      <td>2010</td>\n",
       "    </tr>\n",
       "    <tr>\n",
       "      <th>3327</th>\n",
       "      <td>301-400</td>\n",
       "      <td>Federal University of Minas Gerais</td>\n",
       "      <td>3-5</td>\n",
       "      <td>NaN</td>\n",
       "      <td>0.0</td>\n",
       "      <td>0.0</td>\n",
       "      <td>7.2</td>\n",
       "      <td>5.5</td>\n",
       "      <td>35.6</td>\n",
       "      <td>16.9</td>\n",
       "      <td>2011</td>\n",
       "    </tr>\n",
       "    <tr>\n",
       "      <th>4213</th>\n",
       "      <td>301-400</td>\n",
       "      <td>Federal University of Minas Gerais</td>\n",
       "      <td>2-5</td>\n",
       "      <td>NaN</td>\n",
       "      <td>0.0</td>\n",
       "      <td>0.0</td>\n",
       "      <td>3.6</td>\n",
       "      <td>4.9</td>\n",
       "      <td>37.9</td>\n",
       "      <td>17.9</td>\n",
       "      <td>2014</td>\n",
       "    </tr>\n",
       "    <tr>\n",
       "      <th>4816</th>\n",
       "      <td>401-500</td>\n",
       "      <td>Federal University of Minas Gerais</td>\n",
       "      <td>5-6</td>\n",
       "      <td>NaN</td>\n",
       "      <td>0.0</td>\n",
       "      <td>0.0</td>\n",
       "      <td>3.6</td>\n",
       "      <td>4.4</td>\n",
       "      <td>37.0</td>\n",
       "      <td>18.3</td>\n",
       "      <td>2015</td>\n",
       "    </tr>\n",
       "  </tbody>\n",
       "</table>\n",
       "</div>"
      ],
      "text/plain": [
       "     world_rank                     university_name national_rank  \\\n",
       "1413    403-510  Federal University of Minas Gerais             4   \n",
       "1824    303-401  Federal University of Minas Gerais           3-4   \n",
       "2328    303-401  Federal University of Minas Gerais           3-4   \n",
       "2825    301-400  Federal University of Minas Gerais           3-5   \n",
       "3327    301-400  Federal University of Minas Gerais           3-5   \n",
       "4213    301-400  Federal University of Minas Gerais           2-5   \n",
       "4816    401-500  Federal University of Minas Gerais           5-6   \n",
       "\n",
       "      total_score  alumni  award  hici   ns   pub   pcp  year  \n",
       "1413          NaN     0.0    0.0   0.0  6.8  30.9  14.3  2007  \n",
       "1824          NaN     0.0    0.0   7.3  6.6  31.8  15.3  2008  \n",
       "2328          NaN     0.0    0.0   7.3  6.6  33.0  15.8  2009  \n",
       "2825          NaN     0.0    0.0   7.2  5.8  36.6  16.5  2010  \n",
       "3327          NaN     0.0    0.0   7.2  5.5  35.6  16.9  2011  \n",
       "4213          NaN     0.0    0.0   3.6  4.9  37.9  17.9  2014  \n",
       "4816          NaN     0.0    0.0   3.6  4.4  37.0  18.3  2015  "
      ]
     },
     "execution_count": 13,
     "metadata": {},
     "output_type": "execute_result"
    }
   ],
   "source": [
    "shData[shData['university_name'] == 'Federal University of Minas Gerais']"
   ]
  },
  {
   "cell_type": "code",
   "execution_count": 14,
   "metadata": {},
   "outputs": [
    {
     "data": {
      "text/plain": [
       "2007    510\n",
       "2008    503\n",
       "2009    501\n",
       "2015    500\n",
       "2011    500\n",
       "2014    500\n",
       "2010    500\n",
       "2006    500\n",
       "2005    500\n",
       "2012    284\n",
       "2013     99\n",
       "Name: year, dtype: int64"
      ]
     },
     "execution_count": 14,
     "metadata": {},
     "output_type": "execute_result"
    }
   ],
   "source": [
    "shData['year'].value_counts()"
   ]
  },
  {
   "cell_type": "markdown",
   "metadata": {},
   "source": [
    "<h1> CWUR Data <h1>"
   ]
  },
  {
   "cell_type": "code",
   "execution_count": 15,
   "metadata": {},
   "outputs": [],
   "source": [
    "cwData = pd.read_csv('cwurData.csv')"
   ]
  },
  {
   "cell_type": "code",
   "execution_count": 16,
   "metadata": {},
   "outputs": [
    {
     "data": {
      "text/html": [
       "<div>\n",
       "<style scoped>\n",
       "    .dataframe tbody tr th:only-of-type {\n",
       "        vertical-align: middle;\n",
       "    }\n",
       "\n",
       "    .dataframe tbody tr th {\n",
       "        vertical-align: top;\n",
       "    }\n",
       "\n",
       "    .dataframe thead th {\n",
       "        text-align: right;\n",
       "    }\n",
       "</style>\n",
       "<table border=\"1\" class=\"dataframe\">\n",
       "  <thead>\n",
       "    <tr style=\"text-align: right;\">\n",
       "      <th></th>\n",
       "      <th>world_rank</th>\n",
       "      <th>institution</th>\n",
       "      <th>country</th>\n",
       "      <th>national_rank</th>\n",
       "      <th>quality_of_education</th>\n",
       "      <th>alumni_employment</th>\n",
       "      <th>quality_of_faculty</th>\n",
       "      <th>publications</th>\n",
       "      <th>influence</th>\n",
       "      <th>citations</th>\n",
       "      <th>broad_impact</th>\n",
       "      <th>patents</th>\n",
       "      <th>score</th>\n",
       "      <th>year</th>\n",
       "    </tr>\n",
       "  </thead>\n",
       "  <tbody>\n",
       "    <tr>\n",
       "      <th>0</th>\n",
       "      <td>1</td>\n",
       "      <td>Harvard University</td>\n",
       "      <td>USA</td>\n",
       "      <td>1</td>\n",
       "      <td>7</td>\n",
       "      <td>9</td>\n",
       "      <td>1</td>\n",
       "      <td>1</td>\n",
       "      <td>1</td>\n",
       "      <td>1</td>\n",
       "      <td>NaN</td>\n",
       "      <td>5</td>\n",
       "      <td>100.00</td>\n",
       "      <td>2012</td>\n",
       "    </tr>\n",
       "    <tr>\n",
       "      <th>1</th>\n",
       "      <td>2</td>\n",
       "      <td>Massachusetts Institute of Technology</td>\n",
       "      <td>USA</td>\n",
       "      <td>2</td>\n",
       "      <td>9</td>\n",
       "      <td>17</td>\n",
       "      <td>3</td>\n",
       "      <td>12</td>\n",
       "      <td>4</td>\n",
       "      <td>4</td>\n",
       "      <td>NaN</td>\n",
       "      <td>1</td>\n",
       "      <td>91.67</td>\n",
       "      <td>2012</td>\n",
       "    </tr>\n",
       "    <tr>\n",
       "      <th>2</th>\n",
       "      <td>3</td>\n",
       "      <td>Stanford University</td>\n",
       "      <td>USA</td>\n",
       "      <td>3</td>\n",
       "      <td>17</td>\n",
       "      <td>11</td>\n",
       "      <td>5</td>\n",
       "      <td>4</td>\n",
       "      <td>2</td>\n",
       "      <td>2</td>\n",
       "      <td>NaN</td>\n",
       "      <td>15</td>\n",
       "      <td>89.50</td>\n",
       "      <td>2012</td>\n",
       "    </tr>\n",
       "  </tbody>\n",
       "</table>\n",
       "</div>"
      ],
      "text/plain": [
       "   world_rank                            institution country  national_rank  \\\n",
       "0           1                     Harvard University     USA              1   \n",
       "1           2  Massachusetts Institute of Technology     USA              2   \n",
       "2           3                    Stanford University     USA              3   \n",
       "\n",
       "   quality_of_education  alumni_employment  quality_of_faculty  publications  \\\n",
       "0                     7                  9                   1             1   \n",
       "1                     9                 17                   3            12   \n",
       "2                    17                 11                   5             4   \n",
       "\n",
       "   influence  citations  broad_impact  patents   score  year  \n",
       "0          1          1           NaN        5  100.00  2012  \n",
       "1          4          4           NaN        1   91.67  2012  \n",
       "2          2          2           NaN       15   89.50  2012  "
      ]
     },
     "execution_count": 16,
     "metadata": {},
     "output_type": "execute_result"
    }
   ],
   "source": [
    "cwData.head(3)"
   ]
  },
  {
   "cell_type": "code",
   "execution_count": 17,
   "metadata": {},
   "outputs": [
    {
     "data": {
      "text/plain": [
       "2015    1000\n",
       "2014    1000\n",
       "2013     100\n",
       "2012     100\n",
       "Name: year, dtype: int64"
      ]
     },
     "execution_count": 17,
     "metadata": {},
     "output_type": "execute_result"
    }
   ],
   "source": [
    "cwData['year'].value_counts()"
   ]
  },
  {
   "cell_type": "markdown",
   "metadata": {},
   "source": [
    "<h1> Dados Suplementares Gastos<h1>"
   ]
  },
  {
   "cell_type": "code",
   "execution_count": 18,
   "metadata": {},
   "outputs": [],
   "source": [
    "exData = pd.read_csv(\"education_expenditure_supplementary_data.csv\")"
   ]
  },
  {
   "cell_type": "code",
   "execution_count": 19,
   "metadata": {},
   "outputs": [
    {
     "data": {
      "text/html": [
       "<div>\n",
       "<style scoped>\n",
       "    .dataframe tbody tr th:only-of-type {\n",
       "        vertical-align: middle;\n",
       "    }\n",
       "\n",
       "    .dataframe tbody tr th {\n",
       "        vertical-align: top;\n",
       "    }\n",
       "\n",
       "    .dataframe thead th {\n",
       "        text-align: right;\n",
       "    }\n",
       "</style>\n",
       "<table border=\"1\" class=\"dataframe\">\n",
       "  <thead>\n",
       "    <tr style=\"text-align: right;\">\n",
       "      <th></th>\n",
       "      <th>1995</th>\n",
       "      <th>2000</th>\n",
       "      <th>2005</th>\n",
       "      <th>2006</th>\n",
       "      <th>2007</th>\n",
       "      <th>2008</th>\n",
       "      <th>2009</th>\n",
       "      <th>2010</th>\n",
       "      <th>2011</th>\n",
       "      <th>2012</th>\n",
       "      <th>2013</th>\n",
       "      <th>2014</th>\n",
       "      <th>2015</th>\n",
       "      <th>2016</th>\n",
       "    </tr>\n",
       "  </thead>\n",
       "  <tbody>\n",
       "    <tr>\n",
       "      <th>count</th>\n",
       "      <td>94.000000</td>\n",
       "      <td>99.000000</td>\n",
       "      <td>106.000000</td>\n",
       "      <td>105.000000</td>\n",
       "      <td>294.000000</td>\n",
       "      <td>301.000000</td>\n",
       "      <td>304.000000</td>\n",
       "      <td>299.000000</td>\n",
       "      <td>282.000000</td>\n",
       "      <td>317.000000</td>\n",
       "      <td>321.000000</td>\n",
       "      <td>308.000000</td>\n",
       "      <td>314.000000</td>\n",
       "      <td>313.000000</td>\n",
       "    </tr>\n",
       "    <tr>\n",
       "      <th>mean</th>\n",
       "      <td>3.106383</td>\n",
       "      <td>3.062626</td>\n",
       "      <td>3.142453</td>\n",
       "      <td>3.147619</td>\n",
       "      <td>2.432653</td>\n",
       "      <td>2.433887</td>\n",
       "      <td>2.628947</td>\n",
       "      <td>2.613378</td>\n",
       "      <td>2.573050</td>\n",
       "      <td>2.263722</td>\n",
       "      <td>2.261682</td>\n",
       "      <td>2.326299</td>\n",
       "      <td>2.182803</td>\n",
       "      <td>2.167412</td>\n",
       "    </tr>\n",
       "    <tr>\n",
       "      <th>std</th>\n",
       "      <td>1.790465</td>\n",
       "      <td>1.725475</td>\n",
       "      <td>1.752329</td>\n",
       "      <td>1.761233</td>\n",
       "      <td>2.010677</td>\n",
       "      <td>2.089334</td>\n",
       "      <td>2.190668</td>\n",
       "      <td>2.198739</td>\n",
       "      <td>2.130673</td>\n",
       "      <td>1.945664</td>\n",
       "      <td>1.841296</td>\n",
       "      <td>1.852331</td>\n",
       "      <td>1.734693</td>\n",
       "      <td>1.723394</td>\n",
       "    </tr>\n",
       "    <tr>\n",
       "      <th>min</th>\n",
       "      <td>0.100000</td>\n",
       "      <td>0.500000</td>\n",
       "      <td>0.300000</td>\n",
       "      <td>0.300000</td>\n",
       "      <td>0.000000</td>\n",
       "      <td>0.000000</td>\n",
       "      <td>0.000000</td>\n",
       "      <td>0.000000</td>\n",
       "      <td>0.000000</td>\n",
       "      <td>0.000000</td>\n",
       "      <td>0.000000</td>\n",
       "      <td>0.000000</td>\n",
       "      <td>0.000000</td>\n",
       "      <td>0.000000</td>\n",
       "    </tr>\n",
       "    <tr>\n",
       "      <th>25%</th>\n",
       "      <td>1.100000</td>\n",
       "      <td>1.200000</td>\n",
       "      <td>1.200000</td>\n",
       "      <td>1.100000</td>\n",
       "      <td>0.600000</td>\n",
       "      <td>0.600000</td>\n",
       "      <td>0.700000</td>\n",
       "      <td>0.650000</td>\n",
       "      <td>0.700000</td>\n",
       "      <td>0.400000</td>\n",
       "      <td>0.700000</td>\n",
       "      <td>0.600000</td>\n",
       "      <td>0.600000</td>\n",
       "      <td>0.600000</td>\n",
       "    </tr>\n",
       "    <tr>\n",
       "      <th>50%</th>\n",
       "      <td>3.400000</td>\n",
       "      <td>3.300000</td>\n",
       "      <td>3.450000</td>\n",
       "      <td>3.500000</td>\n",
       "      <td>1.650000</td>\n",
       "      <td>1.600000</td>\n",
       "      <td>1.750000</td>\n",
       "      <td>1.800000</td>\n",
       "      <td>1.750000</td>\n",
       "      <td>1.500000</td>\n",
       "      <td>1.700000</td>\n",
       "      <td>1.700000</td>\n",
       "      <td>1.700000</td>\n",
       "      <td>1.700000</td>\n",
       "    </tr>\n",
       "    <tr>\n",
       "      <th>75%</th>\n",
       "      <td>4.500000</td>\n",
       "      <td>4.350000</td>\n",
       "      <td>4.300000</td>\n",
       "      <td>4.300000</td>\n",
       "      <td>4.000000</td>\n",
       "      <td>4.100000</td>\n",
       "      <td>4.425000</td>\n",
       "      <td>4.300000</td>\n",
       "      <td>4.300000</td>\n",
       "      <td>3.900000</td>\n",
       "      <td>3.800000</td>\n",
       "      <td>3.825000</td>\n",
       "      <td>3.575000</td>\n",
       "      <td>3.600000</td>\n",
       "    </tr>\n",
       "    <tr>\n",
       "      <th>max</th>\n",
       "      <td>6.800000</td>\n",
       "      <td>6.600000</td>\n",
       "      <td>7.200000</td>\n",
       "      <td>7.200000</td>\n",
       "      <td>7.800000</td>\n",
       "      <td>7.900000</td>\n",
       "      <td>8.000000</td>\n",
       "      <td>8.000000</td>\n",
       "      <td>7.900000</td>\n",
       "      <td>6.900000</td>\n",
       "      <td>6.700000</td>\n",
       "      <td>6.700000</td>\n",
       "      <td>6.400000</td>\n",
       "      <td>6.400000</td>\n",
       "    </tr>\n",
       "  </tbody>\n",
       "</table>\n",
       "</div>"
      ],
      "text/plain": [
       "            1995       2000        2005        2006        2007        2008  \\\n",
       "count  94.000000  99.000000  106.000000  105.000000  294.000000  301.000000   \n",
       "mean    3.106383   3.062626    3.142453    3.147619    2.432653    2.433887   \n",
       "std     1.790465   1.725475    1.752329    1.761233    2.010677    2.089334   \n",
       "min     0.100000   0.500000    0.300000    0.300000    0.000000    0.000000   \n",
       "25%     1.100000   1.200000    1.200000    1.100000    0.600000    0.600000   \n",
       "50%     3.400000   3.300000    3.450000    3.500000    1.650000    1.600000   \n",
       "75%     4.500000   4.350000    4.300000    4.300000    4.000000    4.100000   \n",
       "max     6.800000   6.600000    7.200000    7.200000    7.800000    7.900000   \n",
       "\n",
       "             2009        2010        2011        2012        2013        2014  \\\n",
       "count  304.000000  299.000000  282.000000  317.000000  321.000000  308.000000   \n",
       "mean     2.628947    2.613378    2.573050    2.263722    2.261682    2.326299   \n",
       "std      2.190668    2.198739    2.130673    1.945664    1.841296    1.852331   \n",
       "min      0.000000    0.000000    0.000000    0.000000    0.000000    0.000000   \n",
       "25%      0.700000    0.650000    0.700000    0.400000    0.700000    0.600000   \n",
       "50%      1.750000    1.800000    1.750000    1.500000    1.700000    1.700000   \n",
       "75%      4.425000    4.300000    4.300000    3.900000    3.800000    3.825000   \n",
       "max      8.000000    8.000000    7.900000    6.900000    6.700000    6.700000   \n",
       "\n",
       "             2015        2016  \n",
       "count  314.000000  313.000000  \n",
       "mean     2.182803    2.167412  \n",
       "std      1.734693    1.723394  \n",
       "min      0.000000    0.000000  \n",
       "25%      0.600000    0.600000  \n",
       "50%      1.700000    1.700000  \n",
       "75%      3.575000    3.600000  \n",
       "max      6.400000    6.400000  "
      ]
     },
     "execution_count": 19,
     "metadata": {},
     "output_type": "execute_result"
    }
   ],
   "source": [
    "exData.describe()"
   ]
  },
  {
   "cell_type": "code",
   "execution_count": 20,
   "metadata": {},
   "outputs": [
    {
     "data": {
      "text/html": [
       "<div>\n",
       "<style scoped>\n",
       "    .dataframe tbody tr th:only-of-type {\n",
       "        vertical-align: middle;\n",
       "    }\n",
       "\n",
       "    .dataframe tbody tr th {\n",
       "        vertical-align: top;\n",
       "    }\n",
       "\n",
       "    .dataframe thead th {\n",
       "        text-align: right;\n",
       "    }\n",
       "</style>\n",
       "<table border=\"1\" class=\"dataframe\">\n",
       "  <thead>\n",
       "    <tr style=\"text-align: right;\">\n",
       "      <th></th>\n",
       "      <th>country</th>\n",
       "      <th>institute_type</th>\n",
       "      <th>direct_expenditure_type</th>\n",
       "      <th>1995</th>\n",
       "      <th>2000</th>\n",
       "      <th>2005</th>\n",
       "      <th>2006</th>\n",
       "      <th>2007</th>\n",
       "      <th>2008</th>\n",
       "      <th>2009</th>\n",
       "      <th>2010</th>\n",
       "      <th>2011</th>\n",
       "      <th>2012</th>\n",
       "      <th>2013</th>\n",
       "      <th>2014</th>\n",
       "      <th>2015</th>\n",
       "      <th>2016</th>\n",
       "    </tr>\n",
       "  </thead>\n",
       "  <tbody>\n",
       "    <tr>\n",
       "      <th>0</th>\n",
       "      <td>OECD Average</td>\n",
       "      <td>All Institutions</td>\n",
       "      <td>Public</td>\n",
       "      <td>4.9</td>\n",
       "      <td>4.9</td>\n",
       "      <td>5.0</td>\n",
       "      <td>5.0</td>\n",
       "      <td>4.8</td>\n",
       "      <td>5.1</td>\n",
       "      <td>5.4</td>\n",
       "      <td>5.4</td>\n",
       "      <td>5.3</td>\n",
       "      <td>4.7</td>\n",
       "      <td>4.3</td>\n",
       "      <td>4.4</td>\n",
       "      <td>4.1</td>\n",
       "      <td>4.0</td>\n",
       "    </tr>\n",
       "    <tr>\n",
       "      <th>1</th>\n",
       "      <td>Australia</td>\n",
       "      <td>All Institutions</td>\n",
       "      <td>Public</td>\n",
       "      <td>4.5</td>\n",
       "      <td>4.6</td>\n",
       "      <td>4.3</td>\n",
       "      <td>4.3</td>\n",
       "      <td>3.7</td>\n",
       "      <td>3.7</td>\n",
       "      <td>4.5</td>\n",
       "      <td>4.6</td>\n",
       "      <td>4.3</td>\n",
       "      <td>4.3</td>\n",
       "      <td>3.9</td>\n",
       "      <td>3.9</td>\n",
       "      <td>4.0</td>\n",
       "      <td>3.9</td>\n",
       "    </tr>\n",
       "    <tr>\n",
       "      <th>2</th>\n",
       "      <td>Austria</td>\n",
       "      <td>All Institutions</td>\n",
       "      <td>Public</td>\n",
       "      <td>5.3</td>\n",
       "      <td>5.4</td>\n",
       "      <td>5.2</td>\n",
       "      <td>5.2</td>\n",
       "      <td>5.1</td>\n",
       "      <td>5.2</td>\n",
       "      <td>5.7</td>\n",
       "      <td>5.6</td>\n",
       "      <td>5.5</td>\n",
       "      <td>4.9</td>\n",
       "      <td>4.7</td>\n",
       "      <td>4.7</td>\n",
       "      <td>4.6</td>\n",
       "      <td>4.6</td>\n",
       "    </tr>\n",
       "  </tbody>\n",
       "</table>\n",
       "</div>"
      ],
      "text/plain": [
       "        country    institute_type direct_expenditure_type  1995  2000  2005  \\\n",
       "0  OECD Average  All Institutions                  Public   4.9   4.9   5.0   \n",
       "1     Australia  All Institutions                  Public   4.5   4.6   4.3   \n",
       "2       Austria  All Institutions                  Public   5.3   5.4   5.2   \n",
       "\n",
       "   2006  2007  2008  2009  2010  2011  2012  2013  2014  2015  2016  \n",
       "0   5.0   4.8   5.1   5.4   5.4   5.3   4.7   4.3   4.4   4.1   4.0  \n",
       "1   4.3   3.7   3.7   4.5   4.6   4.3   4.3   3.9   3.9   4.0   3.9  \n",
       "2   5.2   5.1   5.2   5.7   5.6   5.5   4.9   4.7   4.7   4.6   4.6  "
      ]
     },
     "execution_count": 20,
     "metadata": {},
     "output_type": "execute_result"
    }
   ],
   "source": [
    "exData.head(3)"
   ]
  },
  {
   "cell_type": "code",
   "execution_count": 21,
   "metadata": {},
   "outputs": [
    {
     "data": {
      "text/html": [
       "<div>\n",
       "<style scoped>\n",
       "    .dataframe tbody tr th:only-of-type {\n",
       "        vertical-align: middle;\n",
       "    }\n",
       "\n",
       "    .dataframe tbody tr th {\n",
       "        vertical-align: top;\n",
       "    }\n",
       "\n",
       "    .dataframe thead th {\n",
       "        text-align: right;\n",
       "    }\n",
       "</style>\n",
       "<table border=\"1\" class=\"dataframe\">\n",
       "  <thead>\n",
       "    <tr style=\"text-align: right;\">\n",
       "      <th></th>\n",
       "      <th>country</th>\n",
       "      <th>institute_type</th>\n",
       "      <th>direct_expenditure_type</th>\n",
       "      <th>1995</th>\n",
       "      <th>2000</th>\n",
       "      <th>2005</th>\n",
       "      <th>2006</th>\n",
       "      <th>2007</th>\n",
       "      <th>2008</th>\n",
       "      <th>2009</th>\n",
       "      <th>2010</th>\n",
       "      <th>2011</th>\n",
       "      <th>2012</th>\n",
       "      <th>2013</th>\n",
       "      <th>2014</th>\n",
       "      <th>2015</th>\n",
       "      <th>2016</th>\n",
       "    </tr>\n",
       "  </thead>\n",
       "  <tbody>\n",
       "    <tr>\n",
       "      <th>35</th>\n",
       "      <td>Brazil</td>\n",
       "      <td>All Institutions</td>\n",
       "      <td>Public</td>\n",
       "      <td>NaN</td>\n",
       "      <td>NaN</td>\n",
       "      <td>4.4</td>\n",
       "      <td>4.4</td>\n",
       "      <td>5.2</td>\n",
       "      <td>5.3</td>\n",
       "      <td>5.5</td>\n",
       "      <td>5.6</td>\n",
       "      <td>5.9</td>\n",
       "      <td>5.6</td>\n",
       "      <td>5.2</td>\n",
       "      <td>NaN</td>\n",
       "      <td>NaN</td>\n",
       "      <td>NaN</td>\n",
       "    </tr>\n",
       "    <tr>\n",
       "      <th>72</th>\n",
       "      <td>Brazil</td>\n",
       "      <td>Elementary and Secondary Institutions</td>\n",
       "      <td>Public</td>\n",
       "      <td>NaN</td>\n",
       "      <td>NaN</td>\n",
       "      <td>3.3</td>\n",
       "      <td>3.3</td>\n",
       "      <td>4.0</td>\n",
       "      <td>4.1</td>\n",
       "      <td>4.3</td>\n",
       "      <td>4.3</td>\n",
       "      <td>4.4</td>\n",
       "      <td>4.6</td>\n",
       "      <td>4.3</td>\n",
       "      <td>NaN</td>\n",
       "      <td>NaN</td>\n",
       "      <td>NaN</td>\n",
       "    </tr>\n",
       "    <tr>\n",
       "      <th>109</th>\n",
       "      <td>Brazil</td>\n",
       "      <td>Higher Education Institutions</td>\n",
       "      <td>Public</td>\n",
       "      <td>NaN</td>\n",
       "      <td>NaN</td>\n",
       "      <td>0.8</td>\n",
       "      <td>0.8</td>\n",
       "      <td>0.8</td>\n",
       "      <td>0.8</td>\n",
       "      <td>0.8</td>\n",
       "      <td>0.9</td>\n",
       "      <td>0.9</td>\n",
       "      <td>0.9</td>\n",
       "      <td>0.9</td>\n",
       "      <td>NaN</td>\n",
       "      <td>NaN</td>\n",
       "      <td>NaN</td>\n",
       "    </tr>\n",
       "    <tr>\n",
       "      <th>146</th>\n",
       "      <td>Brazil</td>\n",
       "      <td>All Institutions</td>\n",
       "      <td>Private</td>\n",
       "      <td>NaN</td>\n",
       "      <td>NaN</td>\n",
       "      <td>NaN</td>\n",
       "      <td>NaN</td>\n",
       "      <td>NaN</td>\n",
       "      <td>NaN</td>\n",
       "      <td>NaN</td>\n",
       "      <td>NaN</td>\n",
       "      <td>NaN</td>\n",
       "      <td>0.0</td>\n",
       "      <td>0.0</td>\n",
       "      <td>NaN</td>\n",
       "      <td>NaN</td>\n",
       "      <td>NaN</td>\n",
       "    </tr>\n",
       "    <tr>\n",
       "      <th>183</th>\n",
       "      <td>Brazil</td>\n",
       "      <td>Elementary and Secondary Institutions</td>\n",
       "      <td>Private</td>\n",
       "      <td>NaN</td>\n",
       "      <td>NaN</td>\n",
       "      <td>NaN</td>\n",
       "      <td>NaN</td>\n",
       "      <td>NaN</td>\n",
       "      <td>NaN</td>\n",
       "      <td>NaN</td>\n",
       "      <td>NaN</td>\n",
       "      <td>NaN</td>\n",
       "      <td>0.0</td>\n",
       "      <td>0.0</td>\n",
       "      <td>NaN</td>\n",
       "      <td>NaN</td>\n",
       "      <td>NaN</td>\n",
       "    </tr>\n",
       "    <tr>\n",
       "      <th>220</th>\n",
       "      <td>Brazil</td>\n",
       "      <td>Higher Education Institutions</td>\n",
       "      <td>Private</td>\n",
       "      <td>NaN</td>\n",
       "      <td>NaN</td>\n",
       "      <td>NaN</td>\n",
       "      <td>NaN</td>\n",
       "      <td>NaN</td>\n",
       "      <td>NaN</td>\n",
       "      <td>NaN</td>\n",
       "      <td>NaN</td>\n",
       "      <td>NaN</td>\n",
       "      <td>0.0</td>\n",
       "      <td>0.0</td>\n",
       "      <td>NaN</td>\n",
       "      <td>NaN</td>\n",
       "      <td>NaN</td>\n",
       "    </tr>\n",
       "    <tr>\n",
       "      <th>257</th>\n",
       "      <td>Brazil</td>\n",
       "      <td>All Institutions</td>\n",
       "      <td>Total</td>\n",
       "      <td>NaN</td>\n",
       "      <td>NaN</td>\n",
       "      <td>NaN</td>\n",
       "      <td>NaN</td>\n",
       "      <td>5.2</td>\n",
       "      <td>5.3</td>\n",
       "      <td>5.5</td>\n",
       "      <td>5.6</td>\n",
       "      <td>NaN</td>\n",
       "      <td>5.6</td>\n",
       "      <td>5.2</td>\n",
       "      <td>4.9</td>\n",
       "      <td>NaN</td>\n",
       "      <td>NaN</td>\n",
       "    </tr>\n",
       "    <tr>\n",
       "      <th>294</th>\n",
       "      <td>Brazil</td>\n",
       "      <td>Elementary and Secondary Institutions</td>\n",
       "      <td>Total</td>\n",
       "      <td>NaN</td>\n",
       "      <td>NaN</td>\n",
       "      <td>NaN</td>\n",
       "      <td>NaN</td>\n",
       "      <td>4.0</td>\n",
       "      <td>4.1</td>\n",
       "      <td>4.3</td>\n",
       "      <td>4.3</td>\n",
       "      <td>NaN</td>\n",
       "      <td>4.6</td>\n",
       "      <td>4.3</td>\n",
       "      <td>4.1</td>\n",
       "      <td>NaN</td>\n",
       "      <td>NaN</td>\n",
       "    </tr>\n",
       "    <tr>\n",
       "      <th>331</th>\n",
       "      <td>Brazil</td>\n",
       "      <td>Higher Education Institutions</td>\n",
       "      <td>Total</td>\n",
       "      <td>NaN</td>\n",
       "      <td>NaN</td>\n",
       "      <td>NaN</td>\n",
       "      <td>NaN</td>\n",
       "      <td>0.8</td>\n",
       "      <td>0.8</td>\n",
       "      <td>0.8</td>\n",
       "      <td>0.9</td>\n",
       "      <td>NaN</td>\n",
       "      <td>0.9</td>\n",
       "      <td>0.9</td>\n",
       "      <td>0.8</td>\n",
       "      <td>NaN</td>\n",
       "      <td>NaN</td>\n",
       "    </tr>\n",
       "  </tbody>\n",
       "</table>\n",
       "</div>"
      ],
      "text/plain": [
       "    country                         institute_type direct_expenditure_type  \\\n",
       "35   Brazil                       All Institutions                  Public   \n",
       "72   Brazil  Elementary and Secondary Institutions                  Public   \n",
       "109  Brazil          Higher Education Institutions                  Public   \n",
       "146  Brazil                       All Institutions                 Private   \n",
       "183  Brazil  Elementary and Secondary Institutions                 Private   \n",
       "220  Brazil          Higher Education Institutions                 Private   \n",
       "257  Brazil                       All Institutions                   Total   \n",
       "294  Brazil  Elementary and Secondary Institutions                   Total   \n",
       "331  Brazil          Higher Education Institutions                   Total   \n",
       "\n",
       "     1995  2000  2005  2006  2007  2008  2009  2010  2011  2012  2013  2014  \\\n",
       "35    NaN   NaN   4.4   4.4   5.2   5.3   5.5   5.6   5.9   5.6   5.2   NaN   \n",
       "72    NaN   NaN   3.3   3.3   4.0   4.1   4.3   4.3   4.4   4.6   4.3   NaN   \n",
       "109   NaN   NaN   0.8   0.8   0.8   0.8   0.8   0.9   0.9   0.9   0.9   NaN   \n",
       "146   NaN   NaN   NaN   NaN   NaN   NaN   NaN   NaN   NaN   0.0   0.0   NaN   \n",
       "183   NaN   NaN   NaN   NaN   NaN   NaN   NaN   NaN   NaN   0.0   0.0   NaN   \n",
       "220   NaN   NaN   NaN   NaN   NaN   NaN   NaN   NaN   NaN   0.0   0.0   NaN   \n",
       "257   NaN   NaN   NaN   NaN   5.2   5.3   5.5   5.6   NaN   5.6   5.2   4.9   \n",
       "294   NaN   NaN   NaN   NaN   4.0   4.1   4.3   4.3   NaN   4.6   4.3   4.1   \n",
       "331   NaN   NaN   NaN   NaN   0.8   0.8   0.8   0.9   NaN   0.9   0.9   0.8   \n",
       "\n",
       "     2015  2016  \n",
       "35    NaN   NaN  \n",
       "72    NaN   NaN  \n",
       "109   NaN   NaN  \n",
       "146   NaN   NaN  \n",
       "183   NaN   NaN  \n",
       "220   NaN   NaN  \n",
       "257   NaN   NaN  \n",
       "294   NaN   NaN  \n",
       "331   NaN   NaN  "
      ]
     },
     "execution_count": 21,
     "metadata": {},
     "output_type": "execute_result"
    }
   ],
   "source": [
    "dataBr = exData[exData['country'] == 'Brazil']\n",
    "dataBr"
   ]
  },
  {
   "cell_type": "code",
   "execution_count": 22,
   "metadata": {},
   "outputs": [
    {
     "data": {
      "text/plain": [
       "country                              Brazil\n",
       "institute_type             All Institutions\n",
       "direct_expenditure_type               Total\n",
       "1995                                    NaN\n",
       "2000                                    NaN\n",
       "2005                                    NaN\n",
       "2006                                    NaN\n",
       "2007                                    5.2\n",
       "2008                                    5.3\n",
       "2009                                    5.5\n",
       "2010                                    5.6\n",
       "2011                                    NaN\n",
       "2012                                    5.6\n",
       "2013                                    5.2\n",
       "2014                                    4.9\n",
       "2015                                    NaN\n",
       "2016                                    NaN\n",
       "Name: 257, dtype: object"
      ]
     },
     "execution_count": 22,
     "metadata": {},
     "output_type": "execute_result"
    }
   ],
   "source": [
    "linha = dataBr.iloc[6]\n",
    "linha"
   ]
  },
  {
   "cell_type": "code",
   "execution_count": null,
   "metadata": {},
   "outputs": [],
   "source": []
  }
 ],
 "metadata": {
  "kernelspec": {
   "display_name": "Python 3",
   "language": "python",
   "name": "python3"
  },
  "language_info": {
   "codemirror_mode": {
    "name": "ipython",
    "version": 3
   },
   "file_extension": ".py",
   "mimetype": "text/x-python",
   "name": "python",
   "nbconvert_exporter": "python",
   "pygments_lexer": "ipython3",
   "version": "3.8.3"
  }
 },
 "nbformat": 4,
 "nbformat_minor": 4
}
