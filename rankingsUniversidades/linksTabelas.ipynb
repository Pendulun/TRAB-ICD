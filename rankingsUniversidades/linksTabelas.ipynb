{
 "cells": [
  {
   "cell_type": "markdown",
   "metadata": {},
   "source": [
    "<h1>Links das tabelas por ano</h1> "
   ]
  },
  {
   "cell_type": "code",
   "execution_count": 230,
   "metadata": {},
   "outputs": [],
   "source": [
    "#A partir de 2007, temos dados para escolas privadas também\n",
    "urls = {'2005':'https://nces.ed.gov/programs/digest/d08/tables/dt08_419.asp',\n",
    "        '2006':'https://nces.ed.gov/programs/digest/d09/tables/dt09_417.asp',\n",
    "        '2007':'https://nces.ed.gov/programs/digest/d10/tables/dt10_426.asp',\n",
    "       '2008':'https://nces.ed.gov/programs/digest/d11/tables/dt11_430.asp',\n",
    "       '2009':'https://nces.ed.gov/programs/digest/d12/tables/dt12_477.asp',\n",
    "       '2010':'https://nces.ed.gov/programs/digest/d13/tables/dt13_605.20.asp',\n",
    "       '2011':'https://nces.ed.gov/programs/digest/d14/tables/dt14_605.20.asp',\n",
    "       '2012':'https://nces.ed.gov/programs/digest/d15/tables/dt15_605.20.asp',\n",
    "       '2013':'https://nces.ed.gov/programs/digest/d16/tables/dt16_605.20.asp',\n",
    "       '2014':'https://nces.ed.gov/programs/digest/d17/tables/dt17_605.20.asp',\n",
    "       '2015':'https://nces.ed.gov/programs/digest/d18/tables/dt18_605.20.asp',\n",
    "       '2016':'https://nces.ed.gov/programs/digest/d19/tables/dt19_605.20.asp'}"
   ]
  }
 ],
 "metadata": {
  "kernelspec": {
   "display_name": "Python 3",
   "language": "python",
   "name": "python3"
  },
  "language_info": {
   "codemirror_mode": {
    "name": "ipython",
    "version": 3
   },
   "file_extension": ".py",
   "mimetype": "text/x-python",
   "name": "python",
   "nbconvert_exporter": "python",
   "pygments_lexer": "ipython3",
   "version": "3.8.3"
  }
 },
 "nbformat": 4,
 "nbformat_minor": 4
}
